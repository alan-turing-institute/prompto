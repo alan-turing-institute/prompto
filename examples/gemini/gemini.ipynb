{
 "cells": [
  {
   "cell_type": "markdown",
   "metadata": {},
   "source": [
    "# Using `prompto` with Gemini"
   ]
  },
  {
   "cell_type": "code",
   "execution_count": 1,
   "metadata": {},
   "outputs": [],
   "source": [
    "from prompto.settings import Settings\n",
    "from prompto.experiment import Experiment\n",
    "from dotenv import load_dotenv\n",
    "import os"
   ]
  },
  {
   "cell_type": "markdown",
   "metadata": {},
   "source": [
    "When using `prompto` to query models from the Gemini API, lines in our experiment `.jsonl` files must have `\"api\": \"gemini\"` in the prompt dict. \n",
    "\n",
    "## Environment variables\n",
    "\n",
    "For the [Gemini API](../../docs/models.md#gemini), there are two environment variables that could be set:\n",
    "- `GEMINI_API_KEY`: the API key for the Gemini API\n",
    "\n",
    "As mentioned in the [model docs](../../docs/models.md#model-specific-environment-variables), there are also model-specific environment variables too which can be utilised. In particular, when you specify a `model_name` key in a prompt dict, one could also specify a `GEMINI_API_KEY_model_name` environment variable to indicate the API key used for that particular model (where \"model_name\" is replaced to whatever the corresponding value of the `model_name` key is). We will see a concrete example of this later.\n",
    "\n",
    "To set environment variables, one can simply have these in a `.env` file which specifies these environment variables as key-value pairs:\n",
    "```\n",
    "GEMINI_API_KEY=<YOUR-GEMINI-KEY>\n",
    "```\n",
    "\n",
    "If you make this file, you can run the following which should return `True` if it's found one, or `False` otherwise:"
   ]
  },
  {
   "cell_type": "code",
   "execution_count": 2,
   "metadata": {},
   "outputs": [
    {
     "data": {
      "text/plain": [
       "True"
      ]
     },
     "execution_count": 2,
     "metadata": {},
     "output_type": "execute_result"
    }
   ],
   "source": [
    "load_dotenv(dotenv_path=\".env\")"
   ]
  },
  {
   "cell_type": "markdown",
   "metadata": {},
   "source": [
    "Now, we obtain those values. We raise an error if the `GEMINI_API_KEY` environment variable hasn't been set:"
   ]
  },
  {
   "cell_type": "code",
   "execution_count": 3,
   "metadata": {},
   "outputs": [],
   "source": [
    "GEMINI_API_KEY = os.environ.get(\"GEMINI_API_KEY\")\n",
    "if GEMINI_API_KEY is None:\n",
    "    raise ValueError(\"GEMINI_API_KEY is not set\")"
   ]
  },
  {
   "cell_type": "markdown",
   "metadata": {},
   "source": [
    "If you get any errors or warnings in the above two cells, try to fix your `.env` file like the example we have above to get these variables set."
   ]
  },
  {
   "cell_type": "markdown",
   "metadata": {},
   "source": [
    "## Types of prompts\n",
    "\n",
    "With the Gemini API, the prompt (given via the `\"prompt\"` key in the prompt dict) can take several forms:\n",
    "- a string: a single prompt to obtain a response for\n",
    "- a list of strings: a sequence of prompts to send to the model\n",
    "    - this is useful in the use case of simulating a conversation with the model by defining the user prompts sequentially\n",
    "- a list of dictionaries with keys \"role\" and \"parts\", where \"role\" is one of \"user\", \"model\", or \"system\" and \"parts\" is the message\n",
    "    - this is useful in the case of passing in some conversation history or to pass in a system prompt to the model\n",
    "    - note that only the prompt in the list can be a system prompt, and the rest must be user or model prompts\n",
    "\n",
    "We have created an input file in [data/input/gemini-example.jsonl](./data/input/gemini-example.jsonl) with an example of each of these cases as an illustration."
   ]
  },
  {
   "cell_type": "code",
   "execution_count": 4,
   "metadata": {},
   "outputs": [],
   "source": [
    "settings = Settings(data_folder=\"./data\", max_queries=30)\n",
    "experiment = Experiment(file_name=\"gemini-example.jsonl\", settings=settings)"
   ]
  },
  {
   "cell_type": "markdown",
   "metadata": {},
   "source": [
    "We set `max_queries` to 30 so we send 30 queries a minute (every 2 seconds)."
   ]
  },
  {
   "cell_type": "code",
   "execution_count": 5,
   "metadata": {},
   "outputs": [
    {
     "name": "stdout",
     "output_type": "stream",
     "text": [
      "Settings: data_folder=./data, max_queries=30, max_attempts=3, parallel=False\n",
      "Subfolders: input_folder=./data/input, output_folder=./data/output, media_folder=./data/media\n"
     ]
    }
   ],
   "source": [
    "print(settings)"
   ]
  },
  {
   "cell_type": "code",
   "execution_count": 6,
   "metadata": {},
   "outputs": [
    {
     "data": {
      "text/plain": [
       "6"
      ]
     },
     "execution_count": 6,
     "metadata": {},
     "output_type": "execute_result"
    }
   ],
   "source": [
    "len(experiment.experiment_prompts)"
   ]
  },
  {
   "cell_type": "markdown",
   "metadata": {},
   "source": [
    "We can see the prompts that we have in the `experiment_prompts` attribute:"
   ]
  },
  {
   "cell_type": "code",
   "execution_count": 7,
   "metadata": {},
   "outputs": [
    {
     "data": {
      "text/plain": [
       "[{'id': 0,\n",
       "  'api': 'gemini',\n",
       "  'model_name': 'gemini-1.5-flash',\n",
       "  'prompt': 'How does technology impact us?',\n",
       "  'safety_filter': 'none',\n",
       "  'parameters': {'candidate_count': 1,\n",
       "   'temperature': 1,\n",
       "   'max_output_tokens': 100}},\n",
       " {'id': 1,\n",
       "  'api': 'gemini',\n",
       "  'model_name': 'gemini-1.0-pro',\n",
       "  'prompt': 'How does technology impact us?',\n",
       "  'safety_filter': 'few',\n",
       "  'parameters': {'candidate_count': 1,\n",
       "   'temperature': 1,\n",
       "   'max_output_tokens': 100}},\n",
       " {'id': 2,\n",
       "  'api': 'gemini',\n",
       "  'model_name': 'gemini-1.5-flash',\n",
       "  'prompt': ['How does international trade create jobs?',\n",
       "   'I want a joke about that'],\n",
       "  'safety_filter': 'some',\n",
       "  'parameters': {'candidate_count': 1,\n",
       "   'temperature': 1,\n",
       "   'max_output_tokens': 100}},\n",
       " {'id': 3,\n",
       "  'api': 'gemini',\n",
       "  'model_name': 'gemini-1.5-flash',\n",
       "  'prompt': [{'role': 'system',\n",
       "    'parts': 'You are a helpful assistant designed to answer questions briefly.'},\n",
       "   {'role': 'user',\n",
       "    'parts': 'What efforts are being made to keep the hakka language alive?'}],\n",
       "  'safety_filter': 'default',\n",
       "  'parameters': {'candidate_count': 1,\n",
       "   'temperature': 1,\n",
       "   'max_output_tokens': 100}},\n",
       " {'id': 4,\n",
       "  'api': 'gemini',\n",
       "  'model_name': 'gemini-1.5-flash',\n",
       "  'prompt': [{'role': 'user',\n",
       "    'parts': 'What efforts are being made to keep the hakka language alive?'},\n",
       "   {'role': 'system',\n",
       "    'parts': 'You are a helpful assistant designed to answer questions briefly.'}],\n",
       "  'safety_filter': 'most',\n",
       "  'parameters': {'candidate_count': 1,\n",
       "   'temperature': 1,\n",
       "   'max_output_tokens': 100}},\n",
       " {'id': 5,\n",
       "  'api': 'gemini',\n",
       "  'model_name': 'gemini-1.5-flash',\n",
       "  'prompt': [{'role': 'system',\n",
       "    'parts': 'You are a helpful assistant designed to answer questions briefly.'},\n",
       "   {'role': 'user', 'parts': \"Hello, I'm Bob and I'm 6 years old\"},\n",
       "   {'role': 'model', 'parts': 'Hi Bob, how may I assist you?'},\n",
       "   {'role': 'user', 'parts': 'How old will I be next year?'}],\n",
       "  'safety_filter': 'most',\n",
       "  'parameters': {'candidate_count': 1,\n",
       "   'temperature': 1,\n",
       "   'max_output_tokens': 100}}]"
      ]
     },
     "execution_count": 7,
     "metadata": {},
     "output_type": "execute_result"
    }
   ],
   "source": [
    "experiment.experiment_prompts"
   ]
  },
  {
   "cell_type": "markdown",
   "metadata": {},
   "source": [
    "- In the first prompt (`\"id\": 0`), we have a `\"prompt\"` key which is a string and specify a `\"model_name\"` key to be \"gemini-1.5-flash\"\n",
    "- In the second prompt (`\"id\": 1`), we have a `\"prompt\"` key is also a string but we specify a `\"model_name\"` key to be \"gemini-1.0-pro\".\n",
    "- In the third prompt (`\"id\": 2`), we have a `\"prompt\"` key which is a list of strings.\n",
    "- In the fourth prompt (`\"id\": 3`), we have a `\"prompt\"` key which is a list of dictionaries. These dictionaries have a \"role\" and \"parts\" key. This acts as passing in a system prompt. Here, we just have a system prompt before a user prompt.\n",
    "- In the fifth prompt (`\"id\": 4`), we have a `\"prompt\"` key which is a list of dictionaries. These dictionaries have a \"role\" and \"parts\" key but here, we have a user prompt and then a system prompt. As mentioned above, only the first prompt in the list can be a system prompt. We should get an error for this particular prompt.\n",
    "- In the sixth prompt (`\"id\": 5`), we have a `\"prompt\"` key which is a list of dictionaries. These dictionaries have a \"role\" and \"parts\" key. Here, we have a system prompt and a series of user/model interactions before finally having a user prompt. This acts as passing in a system prompt and conversation history.\n",
    "\n",
    "Note that for each of these prompt dicts, we have `\"model_name\": \"gemini-1.5-flash\"`, besides `\"id\": 1` where we have `\"model_name\": \"gemini-1.0-pro\"`."
   ]
  },
  {
   "cell_type": "markdown",
   "metadata": {},
   "source": [
    "## Safety filters with Gemini API\n",
    "\n",
    "With the Gemini API, it is possible to configure the safety filters (see the [safety settings docs](https://ai.google.dev/gemini-api/docs/safety-settings)). We can set the `\"safety_filter\"` key in the prompt dict where the options are:\n",
    "- `\"none\"`: corresponds to \"Block none\" or `BLOCK_NONE`\n",
    "- `\"few\"`: corresponds to \"Block few\" or `BLOCK_ONLY_HIGH`\n",
    "- `\"default\"` or `\"some\"`: corresponds to \"Block some\" or `BLOCK_HIGH_AND_MEDIUM`\n",
    "- `\"most\"`: corresponds to \"Block most\" or `BLOCK_LOW_AND_ABOVE`\n",
    "\n",
    "In the example input file, we have set the `\"safety_filter\"` key to each of these options."
   ]
  },
  {
   "cell_type": "markdown",
   "metadata": {},
   "source": [
    "## Running the experiment\n",
    "\n",
    "We now can run the experiment using the async method `process` which will process the prompts in the input file asynchronously. Note that a new folder named `timestamp-gemini-example` (where \"timestamp\" is replaced with the actual date and time of processing) will be created in the output directory and we will move the input file to the output directory. As the responses come in, they will be written to the output file and there are logs that will be printed to the console as well as being written to a log file in the output directory."
   ]
  },
  {
   "cell_type": "code",
   "execution_count": 8,
   "metadata": {},
   "outputs": [
    {
     "name": "stderr",
     "output_type": "stream",
     "text": [
      "Sending 6 queries  (attempt 1/3):   0%|          | 0/6 [00:00<?, ?query/s]"
     ]
    },
    {
     "name": "stderr",
     "output_type": "stream",
     "text": [
      "Sending 6 queries  (attempt 1/3): 100%|██████████| 6/6 [00:12<00:00,  2.00s/query]\n",
      "Waiting for responses  (attempt 1/3): 100%|██████████| 6/6 [00:01<00:00,  5.94query/s]\n"
     ]
    }
   ],
   "source": [
    "responses, avg_query_processing_time = await experiment.process()"
   ]
  },
  {
   "cell_type": "markdown",
   "metadata": {},
   "source": [
    "We can see that the responses are written to the output file, and we can also see them as the returned object. From running the experiment, we obtain prompt dicts where there is now a `\"response\"` key which contains the response(s) from the model.\n",
    "\n",
    "For the case where the prompt is a list of strings, we see that the response is a list of strings where each string is the response to the corresponding prompt."
   ]
  },
  {
   "cell_type": "code",
   "execution_count": 9,
   "metadata": {},
   "outputs": [
    {
     "data": {
      "text/plain": [
       "[{'id': 0,\n",
       "  'api': 'gemini',\n",
       "  'model_name': 'gemini-1.5-flash',\n",
       "  'prompt': 'How does technology impact us?',\n",
       "  'safety_filter': 'none',\n",
       "  'parameters': {'candidate_count': 1,\n",
       "   'temperature': 1,\n",
       "   'max_output_tokens': 100},\n",
       "  'response': \"Technology impacts us in countless ways, both positive and negative. Here's a breakdown of some key areas:\\n\\n**Positive Impacts:**\\n\\n* **Enhanced Communication:** Technology has revolutionized how we connect with others. Instant messaging, video calls, and social media platforms allow us to communicate with friends, family, and colleagues across the globe.\\n* **Increased Efficiency and Productivity:**  Tools like computers, automation, and artificial intelligence (AI) streamline tasks, increase production, and improve overall efficiency in\",\n",
       "  'safety_attributes': {'HARM_CATEGORY_SEXUALLY_EXPLICIT': '1',\n",
       "   'HARM_CATEGORY_HATE_SPEECH': '1',\n",
       "   'HARM_CATEGORY_HARASSMENT': '1',\n",
       "   'HARM_CATEGORY_DANGEROUS_CONTENT': '1',\n",
       "   'blocked': '[False, False, False, False]',\n",
       "   'finish_reason': 'STOP'}},\n",
       " {'id': 1,\n",
       "  'api': 'gemini',\n",
       "  'model_name': 'gemini-1.0-pro',\n",
       "  'prompt': 'How does technology impact us?',\n",
       "  'safety_filter': 'few',\n",
       "  'parameters': {'candidate_count': 1,\n",
       "   'temperature': 1,\n",
       "   'max_output_tokens': 100},\n",
       "  'response': '**Positive Impacts:**\\n\\n* **Enhanced communication and information access:** Social media, messaging apps, and the internet have facilitated seamless communication, knowledge sharing, and access to vast amounts of information.\\n* **Increased productivity and efficiency:** Automation, software tools, and remote work capabilities have enhanced productivity in various industries, saving time and effort.\\n* **Improved healthcare:** Medical devices, telemedicine, and wearable health trackers have revolutionized healthcare, allowing for more accessible, personalized, and efficient treatments.\\n',\n",
       "  'safety_attributes': {'HARM_CATEGORY_SEXUALLY_EXPLICIT': '1',\n",
       "   'HARM_CATEGORY_HATE_SPEECH': '1',\n",
       "   'HARM_CATEGORY_HARASSMENT': '1',\n",
       "   'HARM_CATEGORY_DANGEROUS_CONTENT': '1',\n",
       "   'blocked': '[False, False, False, False]',\n",
       "   'finish_reason': 'STOP'}},\n",
       " {'id': 2,\n",
       "  'api': 'gemini',\n",
       "  'model_name': 'gemini-1.5-flash',\n",
       "  'prompt': ['How does international trade create jobs?',\n",
       "   'I want a joke about that'],\n",
       "  'safety_filter': 'some',\n",
       "  'parameters': {'candidate_count': 1,\n",
       "   'temperature': 1,\n",
       "   'max_output_tokens': 100},\n",
       "  'response': ['International trade creates jobs in several ways:\\n\\n**1. Expanding Markets:**\\n\\n* **Exports:** When a country exports goods or services, it creates demand for those products from other countries. This leads to increased production, which in turn requires more workers to produce and ship those goods. This can be in manufacturing, agriculture, or service sectors.\\n* **Imports:** While imports might seem like they take away jobs, they actually stimulate other sectors of the economy. For example, importing cheaper raw materials',\n",
       "   'Why did the economist get lost in the forest?\\n\\nBecause he kept following the path of least resistance, and it led him to a dead end! \\n\\n(This joke plays on the economic concept of \"following the path of least resistance\", which can be applied to trade and globalization.) \\n'],\n",
       "  'safety_attributes': [{'HARM_CATEGORY_SEXUALLY_EXPLICIT': '1',\n",
       "    'HARM_CATEGORY_HATE_SPEECH': '1',\n",
       "    'HARM_CATEGORY_HARASSMENT': '1',\n",
       "    'HARM_CATEGORY_DANGEROUS_CONTENT': '1',\n",
       "    'blocked': '[False, False, False, False]',\n",
       "    'finish_reason': 'STOP'},\n",
       "   {'HARM_CATEGORY_SEXUALLY_EXPLICIT': '1',\n",
       "    'HARM_CATEGORY_HATE_SPEECH': '1',\n",
       "    'HARM_CATEGORY_HARASSMENT': '1',\n",
       "    'HARM_CATEGORY_DANGEROUS_CONTENT': '1',\n",
       "    'blocked': '[False, False, False, False]',\n",
       "    'finish_reason': 'STOP'}]},\n",
       " {'id': 3,\n",
       "  'api': 'gemini',\n",
       "  'model_name': 'gemini-1.5-flash',\n",
       "  'prompt': [{'role': 'system',\n",
       "    'parts': 'You are a helpful assistant designed to answer questions briefly.'},\n",
       "   {'role': 'user',\n",
       "    'parts': 'What efforts are being made to keep the hakka language alive?'}],\n",
       "  'safety_filter': 'default',\n",
       "  'parameters': {'candidate_count': 1,\n",
       "   'temperature': 1,\n",
       "   'max_output_tokens': 100},\n",
       "  'response': 'Efforts to preserve Hakka include:\\n\\n* **Language schools and classes:**  Offering instruction to children and adults.\\n* **Cultural events:**  Promoting Hakka music, dance, and literature.\\n* **Media:**  Radio stations, online platforms, and publications in Hakka.\\n* **Community initiatives:**  Encouraging use of Hakka within families and gatherings. \\n',\n",
       "  'safety_attributes': {'HARM_CATEGORY_SEXUALLY_EXPLICIT': '1',\n",
       "   'HARM_CATEGORY_HATE_SPEECH': '1',\n",
       "   'HARM_CATEGORY_HARASSMENT': '1',\n",
       "   'HARM_CATEGORY_DANGEROUS_CONTENT': '1',\n",
       "   'blocked': '[False, False, False, False]',\n",
       "   'finish_reason': 'STOP'}},\n",
       " {'id': 4,\n",
       "  'api': 'gemini',\n",
       "  'model_name': 'gemini-1.5-flash',\n",
       "  'prompt': [{'role': 'user',\n",
       "    'parts': 'What efforts are being made to keep the hakka language alive?'},\n",
       "   {'role': 'system',\n",
       "    'parts': 'You are a helpful assistant designed to answer questions briefly.'}],\n",
       "  'safety_filter': 'most',\n",
       "  'parameters': {'candidate_count': 1,\n",
       "   'temperature': 1,\n",
       "   'max_output_tokens': 100},\n",
       "  'response': \"TypeError - if api == 'gemini', then the prompt must be a str, list[str], or list[dict[str,str]] where the dictionary contains the keys 'role' and 'parts' only, and the values for 'role' must be one of 'user' or 'model', except for the  first message in the list of dictionaries can be a system message with the key 'role' set to 'system'.\"},\n",
       " {'id': 5,\n",
       "  'api': 'gemini',\n",
       "  'model_name': 'gemini-1.5-flash',\n",
       "  'prompt': [{'role': 'system',\n",
       "    'parts': 'You are a helpful assistant designed to answer questions briefly.'},\n",
       "   {'role': 'user', 'parts': \"Hello, I'm Bob and I'm 6 years old\"},\n",
       "   {'role': 'model', 'parts': 'Hi Bob, how may I assist you?'},\n",
       "   {'role': 'user', 'parts': 'How old will I be next year?'}],\n",
       "  'safety_filter': 'most',\n",
       "  'parameters': {'candidate_count': 1,\n",
       "   'temperature': 1,\n",
       "   'max_output_tokens': 100},\n",
       "  'response': 'You will be 7 years old next year! \\n',\n",
       "  'safety_attributes': {'HARM_CATEGORY_SEXUALLY_EXPLICIT': '1',\n",
       "   'HARM_CATEGORY_HATE_SPEECH': '1',\n",
       "   'HARM_CATEGORY_HARASSMENT': '1',\n",
       "   'HARM_CATEGORY_DANGEROUS_CONTENT': '1',\n",
       "   'blocked': '[False, False, False, False]',\n",
       "   'finish_reason': 'STOP'}}]"
      ]
     },
     "execution_count": 9,
     "metadata": {},
     "output_type": "execute_result"
    }
   ],
   "source": [
    "responses"
   ]
  },
  {
   "cell_type": "markdown",
   "metadata": {},
   "source": [
    "Also notice how with the Gemini API, we record some additional information related to the safety attributes."
   ]
  },
  {
   "cell_type": "markdown",
   "metadata": {},
   "source": [
    "## Running the experiment via the command line\n",
    "\n",
    "We can also run the experiment via the command line. The command is as follows (assuming that your working directory is the current directory of this notebook, i.e. `examples/gemini`):\n",
    "```bash\n",
    "prompto_run_experiment --file data/input/gemini-example.jsonl --max_queries 30\n",
    "```"
   ]
  }
 ],
 "metadata": {
  "kernelspec": {
   "display_name": ".venv",
   "language": "python",
   "name": "python3"
  },
  "language_info": {
   "codemirror_mode": {
    "name": "ipython",
    "version": 3
   },
   "file_extension": ".py",
   "mimetype": "text/x-python",
   "name": "python",
   "nbconvert_exporter": "python",
   "pygments_lexer": "ipython3",
   "version": "3.11.9"
  }
 },
 "nbformat": 4,
 "nbformat_minor": 2
}
