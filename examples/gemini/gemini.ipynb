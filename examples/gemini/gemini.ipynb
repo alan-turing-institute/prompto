{
 "cells": [
  {
   "cell_type": "markdown",
   "metadata": {},
   "source": [
    "# Using prompto with Gemini"
   ]
  },
  {
   "cell_type": "code",
   "execution_count": 1,
   "metadata": {},
   "outputs": [],
   "source": [
    "from prompto.settings import Settings\n",
    "from prompto.experiment import Experiment\n",
    "from dotenv import load_dotenv\n",
    "import os"
   ]
  },
  {
   "cell_type": "markdown",
   "metadata": {},
   "source": [
    "When using `prompto` to query models from the Gemini API, lines in our experiment `.jsonl` files must have `\"api\": \"gemini\"` in the prompt dict. \n",
    "\n",
    "## Environment variables\n",
    "\n",
    "For the [Gemini API](https://alan-turing-institute.github.io/prompto/docs/gemini/), there are two environment variables that could be set:\n",
    "- `GEMINI_API_KEY`: the API key for the Gemini API\n",
    "\n",
    "As mentioned in the [environment variables docs](https://alan-turing-institute.github.io/prompto/docs/environment_variables/#model-specific-environment-variables), there are also model-specific environment variables too which can be utilised. In particular, when you specify a `model_name` key in a prompt dict, one could also specify a `GEMINI_API_KEY_model_name` environment variable to indicate the API key used for that particular model (where \"model_name\" is replaced to whatever the corresponding value of the `model_name` key is). We will see a concrete example of this later.\n",
    "\n",
    "To set environment variables, one can simply have these in a `.env` file which specifies these environment variables as key-value pairs:\n",
    "```\n",
    "GEMINI_API_KEY=<YOUR-GEMINI-KEY>\n",
    "```\n",
    "\n",
    "If you make this file, you can run the following which should return `True` if it's found one, or `False` otherwise:"
   ]
  },
  {
   "cell_type": "code",
   "execution_count": 2,
   "metadata": {},
   "outputs": [
    {
     "data": {
      "text/plain": [
       "True"
      ]
     },
     "execution_count": 2,
     "metadata": {},
     "output_type": "execute_result"
    }
   ],
   "source": [
    "load_dotenv(dotenv_path=\".env\")"
   ]
  },
  {
   "cell_type": "markdown",
   "metadata": {},
   "source": [
    "Now, we obtain those values. We raise an error if the `GEMINI_API_KEY` environment variable hasn't been set:"
   ]
  },
  {
   "cell_type": "code",
   "execution_count": 3,
   "metadata": {},
   "outputs": [],
   "source": [
    "GEMINI_API_KEY = os.environ.get(\"GEMINI_API_KEY\")\n",
    "if GEMINI_API_KEY is None:\n",
    "    raise ValueError(\"GEMINI_API_KEY is not set\")"
   ]
  },
  {
   "cell_type": "markdown",
   "metadata": {},
   "source": [
    "If you get any errors or warnings in the above two cells, try to fix your `.env` file like the example we have above to get these variables set."
   ]
  },
  {
   "cell_type": "markdown",
   "metadata": {},
   "source": [
    "## Types of prompts\n",
    "\n",
    "With the Gemini API, the prompt (given via the `\"prompt\"` key in the prompt dict) can take several forms:\n",
    "- a string: a single prompt to obtain a response for\n",
    "- a list of strings: a sequence of prompts to send to the model\n",
    "    - this is useful in the use case of simulating a conversation with the model by defining the user prompts sequentially\n",
    "- a list of dictionaries with keys \"role\" and \"parts\", where \"role\" is one of \"user\", \"model\", or \"system\" and \"parts\" is the message\n",
    "    - this is useful in the case of passing in some conversation history or to pass in a system prompt to the model\n",
    "    - note that only the prompt in the list can be a system prompt, and the rest must be user or model prompts\n",
    "\n",
    "We have created an input file in [data/input/gemini-example.jsonl](https://github.com/alan-turing-institute/prompto/blob/main/examples/gemini/data/input/gemini-example.jsonl) with an example of each of these cases as an illustration."
   ]
  },
  {
   "cell_type": "code",
   "execution_count": 4,
   "metadata": {},
   "outputs": [],
   "source": [
    "settings = Settings(data_folder=\"./data\", max_queries=30)\n",
    "experiment = Experiment(file_name=\"gemini-example.jsonl\", settings=settings)"
   ]
  },
  {
   "cell_type": "markdown",
   "metadata": {},
   "source": [
    "We set `max_queries` to 30 so we send 30 queries a minute (every 2 seconds)."
   ]
  },
  {
   "cell_type": "code",
   "execution_count": 5,
   "metadata": {},
   "outputs": [
    {
     "name": "stdout",
     "output_type": "stream",
     "text": [
      "Settings: data_folder=./data, max_queries=30, max_attempts=3, parallel=False\n",
      "Subfolders: input_folder=./data/input, output_folder=./data/output, media_folder=./data/media\n"
     ]
    }
   ],
   "source": [
    "print(settings)"
   ]
  },
  {
   "cell_type": "code",
   "execution_count": 6,
   "metadata": {},
   "outputs": [
    {
     "data": {
      "text/plain": [
       "6"
      ]
     },
     "execution_count": 6,
     "metadata": {},
     "output_type": "execute_result"
    }
   ],
   "source": [
    "len(experiment.experiment_prompts)"
   ]
  },
  {
   "cell_type": "markdown",
   "metadata": {},
   "source": [
    "We can see the prompts that we have in the `experiment_prompts` attribute:"
   ]
  },
  {
   "cell_type": "code",
   "execution_count": 7,
   "metadata": {},
   "outputs": [
    {
     "data": {
      "text/plain": [
       "[{'id': 0,\n",
       "  'api': 'gemini',\n",
       "  'model_name': 'gemini-1.5-flash',\n",
       "  'prompt': 'How does technology impact us?',\n",
       "  'safety_filter': 'none',\n",
       "  'parameters': {'candidate_count': 1,\n",
       "   'temperature': 1,\n",
       "   'max_output_tokens': 100}},\n",
       " {'id': 1,\n",
       "  'api': 'gemini',\n",
       "  'model_name': 'gemini-1.0-pro',\n",
       "  'prompt': 'How does technology impact us?',\n",
       "  'safety_filter': 'few',\n",
       "  'parameters': {'candidate_count': 1,\n",
       "   'temperature': 1,\n",
       "   'max_output_tokens': 100}},\n",
       " {'id': 2,\n",
       "  'api': 'gemini',\n",
       "  'model_name': 'gemini-1.5-flash',\n",
       "  'prompt': ['How does international trade create jobs?',\n",
       "   'I want a joke about that'],\n",
       "  'safety_filter': 'some',\n",
       "  'parameters': {'candidate_count': 1,\n",
       "   'temperature': 1,\n",
       "   'max_output_tokens': 100}},\n",
       " {'id': 3,\n",
       "  'api': 'gemini',\n",
       "  'model_name': 'gemini-1.5-flash',\n",
       "  'prompt': [{'role': 'system',\n",
       "    'parts': 'You are a helpful assistant designed to answer questions briefly.'},\n",
       "   {'role': 'user',\n",
       "    'parts': 'What efforts are being made to keep the hakka language alive?'}],\n",
       "  'safety_filter': 'default',\n",
       "  'parameters': {'candidate_count': 1,\n",
       "   'temperature': 1,\n",
       "   'max_output_tokens': 100}},\n",
       " {'id': 4,\n",
       "  'api': 'gemini',\n",
       "  'model_name': 'gemini-1.5-flash',\n",
       "  'prompt': [{'role': 'user',\n",
       "    'parts': 'What efforts are being made to keep the hakka language alive?'},\n",
       "   {'role': 'system',\n",
       "    'parts': 'You are a helpful assistant designed to answer questions briefly.'}],\n",
       "  'safety_filter': 'most',\n",
       "  'parameters': {'candidate_count': 1,\n",
       "   'temperature': 1,\n",
       "   'max_output_tokens': 100}},\n",
       " {'id': 5,\n",
       "  'api': 'gemini',\n",
       "  'model_name': 'gemini-1.5-flash',\n",
       "  'prompt': [{'role': 'system',\n",
       "    'parts': 'You are a helpful assistant designed to answer questions briefly.'},\n",
       "   {'role': 'user', 'parts': \"Hello, I'm Bob and I'm 6 years old\"},\n",
       "   {'role': 'model', 'parts': 'Hi Bob, how may I assist you?'},\n",
       "   {'role': 'user', 'parts': 'How old will I be next year?'}],\n",
       "  'safety_filter': 'most',\n",
       "  'parameters': {'candidate_count': 1,\n",
       "   'temperature': 1,\n",
       "   'max_output_tokens': 100}}]"
      ]
     },
     "execution_count": 7,
     "metadata": {},
     "output_type": "execute_result"
    }
   ],
   "source": [
    "experiment.experiment_prompts"
   ]
  },
  {
   "cell_type": "markdown",
   "metadata": {},
   "source": [
    "- In the first prompt (`\"id\": 0`), we have a `\"prompt\"` key which is a string and specify a `\"model_name\"` key to be \"gemini-1.5-flash\"\n",
    "- In the second prompt (`\"id\": 1`), we have a `\"prompt\"` key is also a string but we specify a `\"model_name\"` key to be \"gemini-1.0-pro\".\n",
    "- In the third prompt (`\"id\": 2`), we have a `\"prompt\"` key which is a list of strings.\n",
    "- In the fourth prompt (`\"id\": 3`), we have a `\"prompt\"` key which is a list of dictionaries. These dictionaries have a \"role\" and \"parts\" key. This acts as passing in a system prompt. Here, we just have a system prompt before a user prompt.\n",
    "- In the fifth prompt (`\"id\": 4`), we have a `\"prompt\"` key which is a list of dictionaries. These dictionaries have a \"role\" and \"parts\" key but here, we have a user prompt and then a system prompt. As mentioned above, only the first prompt in the list can be a system prompt. We should get an error for this particular prompt.\n",
    "- In the sixth prompt (`\"id\": 5`), we have a `\"prompt\"` key which is a list of dictionaries. These dictionaries have a \"role\" and \"parts\" key. Here, we have a system prompt and a series of user/model interactions before finally having a user prompt. This acts as passing in a system prompt and conversation history.\n",
    "\n",
    "Note that for each of these prompt dicts, we have `\"model_name\": \"gemini-1.5-flash\"`, besides `\"id\": 1` where we have `\"model_name\": \"gemini-1.0-pro\"`."
   ]
  },
  {
   "cell_type": "markdown",
   "metadata": {},
   "source": [
    "## Safety filters with Gemini API\n",
    "\n",
    "With the Gemini API, it is possible to configure the safety filters (see the [safety settings docs](https://ai.google.dev/gemini-api/docs/safety-settings)). We can set the `\"safety_filter\"` key in the prompt dict where the options are:\n",
    "- `\"none\"`: corresponds to \"Block none\" or `BLOCK_NONE`\n",
    "- `\"few\"`: corresponds to \"Block few\" or `BLOCK_ONLY_HIGH`\n",
    "- `\"default\"` or `\"some\"`: corresponds to \"Block some\" or `BLOCK_HIGH_AND_MEDIUM`\n",
    "- `\"most\"`: corresponds to \"Block most\" or `BLOCK_LOW_AND_ABOVE`\n",
    "\n",
    "In the example input file, we have set the `\"safety_filter\"` key to each of these options."
   ]
  },
  {
   "cell_type": "markdown",
   "metadata": {},
   "source": [
    "## Running the experiment\n",
    "\n",
    "We now can run the experiment using the async method `process` which will process the prompts in the input file asynchronously. Note that a new folder named `timestamp-gemini-example` (where \"timestamp\" is replaced with the actual date and time of processing) will be created in the output directory and we will move the input file to the output directory. As the responses come in, they will be written to the output file and there are logs that will be printed to the console as well as being written to a log file in the output directory."
   ]
  },
  {
   "cell_type": "code",
   "execution_count": 8,
   "metadata": {},
   "outputs": [
    {
     "name": "stderr",
     "output_type": "stream",
     "text": [
      "Sending 6 queries at 30 QPM with RI of 2.0s (attempt 1/3): 100%|██████████| 6/6 [00:12<00:00,  2.00s/query]\n",
      "Waiting for responses (attempt 1/3): 100%|██████████| 6/6 [00:00<00:00, 10.17query/s]\n"
     ]
    }
   ],
   "source": [
    "responses, avg_query_processing_time = await experiment.process()"
   ]
  },
  {
   "cell_type": "markdown",
   "metadata": {},
   "source": [
    "We can see that the responses are written to the output file, and we can also see them as the returned object. From running the experiment, we obtain prompt dicts where there is now a `\"response\"` key which contains the response(s) from the model.\n",
    "\n",
    "For the case where the prompt is a list of strings, we see that the response is a list of strings where each string is the response to the corresponding prompt."
   ]
  },
  {
   "cell_type": "code",
   "execution_count": 10,
   "metadata": {},
   "outputs": [
    {
     "data": {
      "text/plain": [
       "[{'id': 0,\n",
       "  'api': 'gemini',\n",
       "  'model_name': 'gemini-1.5-flash',\n",
       "  'prompt': 'How does technology impact us?',\n",
       "  'safety_filter': 'none',\n",
       "  'parameters': {'candidate_count': 1,\n",
       "   'temperature': 1,\n",
       "   'max_output_tokens': 100},\n",
       "  'timestamp_sent': '18-10-2024-09-57-31',\n",
       "  'response': \"Technology impacts us in profound and multifaceted ways, shaping our lives in every aspect from communication and work to entertainment and healthcare. Here's a breakdown of key impacts:\\n\\n**Positive Impacts:**\\n\\n* **Enhanced Communication:** Technology has revolutionized communication. We can connect with people across the globe instantly through video calls, instant messaging, and social media. This fosters stronger relationships, facilitates business, and enables global collaboration.\\n* **Increased Efficiency and Productivity:** Technology automates tasks, streamlines processes,\",\n",
       "  'safety_attributes': {'HARM_CATEGORY_SEXUALLY_EXPLICIT': '1',\n",
       "   'HARM_CATEGORY_HATE_SPEECH': '1',\n",
       "   'HARM_CATEGORY_HARASSMENT': '1',\n",
       "   'HARM_CATEGORY_DANGEROUS_CONTENT': '1',\n",
       "   'blocked': '[False, False, False, False]',\n",
       "   'finish_reason': 'MAX_TOKENS'}},\n",
       " {'id': 1,\n",
       "  'api': 'gemini',\n",
       "  'model_name': 'gemini-1.0-pro',\n",
       "  'prompt': 'How does technology impact us?',\n",
       "  'safety_filter': 'few',\n",
       "  'parameters': {'candidate_count': 1,\n",
       "   'temperature': 1,\n",
       "   'max_output_tokens': 100},\n",
       "  'timestamp_sent': '18-10-2024-09-57-33',\n",
       "  'response': '**Positive Impacts of Technology**\\n\\n* **Enhanced Communication:** Social media, messaging apps, and video conferencing facilitate seamless connection and information exchange globally.\\n* **Increased Accessibility:** Technology provides equal access to education, healthcare, and information for individuals regardless of location or circumstances.\\n* **Improved Productivity:** Automation, artificial intelligence, and data analytics streamline processes, improve efficiency, and reduce time consumption.\\n* **Medical Advancements:** Medical devices, surgical robots, and telemedicine enhance patient care, improve',\n",
       "  'safety_attributes': {'HARM_CATEGORY_SEXUALLY_EXPLICIT': '1',\n",
       "   'HARM_CATEGORY_HATE_SPEECH': '1',\n",
       "   'HARM_CATEGORY_HARASSMENT': '1',\n",
       "   'HARM_CATEGORY_DANGEROUS_CONTENT': '1',\n",
       "   'blocked': '[False, False, False, False]',\n",
       "   'finish_reason': 'MAX_TOKENS'}},\n",
       " {'id': 2,\n",
       "  'api': 'gemini',\n",
       "  'model_name': 'gemini-1.5-flash',\n",
       "  'prompt': ['How does international trade create jobs?',\n",
       "   'I want a joke about that'],\n",
       "  'safety_filter': 'some',\n",
       "  'parameters': {'candidate_count': 1,\n",
       "   'temperature': 1,\n",
       "   'max_output_tokens': 100},\n",
       "  'timestamp_sent': '18-10-2024-09-57-35',\n",
       "  'response': [\"International trade creates jobs in a multitude of ways, boosting both domestic and global economies. Here's a breakdown of how it works:\\n\\n**1. Increased Production and Export Jobs:**\\n\\n* **Specialization and Comparative Advantage:** Countries specialize in producing goods and services where they have a comparative advantage (lower opportunity cost). This leads to increased efficiency and higher production levels.\\n* **Export Jobs:**  Producers of these specialized goods and services find new markets abroad, leading to increased demand for their products\",\n",
       "   'Why did the economist get a job in international trade?\\n\\nBecause he was tired of being a \"jobless\" economist! 😜 \\n'],\n",
       "  'safety_attributes': [{'HARM_CATEGORY_SEXUALLY_EXPLICIT': '1',\n",
       "    'HARM_CATEGORY_HATE_SPEECH': '1',\n",
       "    'HARM_CATEGORY_HARASSMENT': '1',\n",
       "    'HARM_CATEGORY_DANGEROUS_CONTENT': '1',\n",
       "    'blocked': '[False, False, False, False]',\n",
       "    'finish_reason': 'MAX_TOKENS'},\n",
       "   {'HARM_CATEGORY_SEXUALLY_EXPLICIT': '1',\n",
       "    'HARM_CATEGORY_HATE_SPEECH': '1',\n",
       "    'HARM_CATEGORY_HARASSMENT': '2',\n",
       "    'HARM_CATEGORY_DANGEROUS_CONTENT': '1',\n",
       "    'blocked': '[False, False, False, False]',\n",
       "    'finish_reason': 'STOP'}]},\n",
       " {'id': 3,\n",
       "  'api': 'gemini',\n",
       "  'model_name': 'gemini-1.5-flash',\n",
       "  'prompt': [{'role': 'system',\n",
       "    'parts': 'You are a helpful assistant designed to answer questions briefly.'},\n",
       "   {'role': 'user',\n",
       "    'parts': 'What efforts are being made to keep the hakka language alive?'}],\n",
       "  'safety_filter': 'default',\n",
       "  'parameters': {'candidate_count': 1,\n",
       "   'temperature': 1,\n",
       "   'max_output_tokens': 100},\n",
       "  'timestamp_sent': '18-10-2024-09-57-37',\n",
       "  'response': 'Efforts to preserve Hakka include language schools, cultural festivals, and online resources. \\n',\n",
       "  'safety_attributes': {'HARM_CATEGORY_SEXUALLY_EXPLICIT': '1',\n",
       "   'HARM_CATEGORY_HATE_SPEECH': '1',\n",
       "   'HARM_CATEGORY_HARASSMENT': '1',\n",
       "   'HARM_CATEGORY_DANGEROUS_CONTENT': '1',\n",
       "   'blocked': '[False, False, False, False]',\n",
       "   'finish_reason': 'STOP'}},\n",
       " {'id': 4,\n",
       "  'api': 'gemini',\n",
       "  'model_name': 'gemini-1.5-flash',\n",
       "  'prompt': [{'role': 'user',\n",
       "    'parts': 'What efforts are being made to keep the hakka language alive?'},\n",
       "   {'role': 'system',\n",
       "    'parts': 'You are a helpful assistant designed to answer questions briefly.'}],\n",
       "  'safety_filter': 'most',\n",
       "  'parameters': {'candidate_count': 1,\n",
       "   'temperature': 1,\n",
       "   'max_output_tokens': 100},\n",
       "  'timestamp_sent': '18-10-2024-09-57-39',\n",
       "  'response': \"TypeError - if api == 'gemini', then the prompt must be a str, list[str], or list[dict[str,str]] where the dictionary contains the keys 'role' and 'parts' only, and the values for 'role' must be one of 'user' or 'model', except for the first message in the list of dictionaries can be a system message with the key 'role' set to 'system'.\"},\n",
       " {'id': 5,\n",
       "  'api': 'gemini',\n",
       "  'model_name': 'gemini-1.5-flash',\n",
       "  'prompt': [{'role': 'system',\n",
       "    'parts': 'You are a helpful assistant designed to answer questions briefly.'},\n",
       "   {'role': 'user', 'parts': \"Hello, I'm Bob and I'm 6 years old\"},\n",
       "   {'role': 'model', 'parts': 'Hi Bob, how may I assist you?'},\n",
       "   {'role': 'user', 'parts': 'How old will I be next year?'}],\n",
       "  'safety_filter': 'most',\n",
       "  'parameters': {'candidate_count': 1,\n",
       "   'temperature': 1,\n",
       "   'max_output_tokens': 100},\n",
       "  'timestamp_sent': '18-10-2024-09-57-41',\n",
       "  'response': 'You will be 7 years old next year! \\n',\n",
       "  'safety_attributes': {'HARM_CATEGORY_SEXUALLY_EXPLICIT': '1',\n",
       "   'HARM_CATEGORY_HATE_SPEECH': '1',\n",
       "   'HARM_CATEGORY_HARASSMENT': '1',\n",
       "   'HARM_CATEGORY_DANGEROUS_CONTENT': '1',\n",
       "   'blocked': '[False, False, False, False]',\n",
       "   'finish_reason': 'STOP'}}]"
      ]
     },
     "execution_count": 10,
     "metadata": {},
     "output_type": "execute_result"
    }
   ],
   "source": [
    "responses"
   ]
  },
  {
   "cell_type": "markdown",
   "metadata": {},
   "source": [
    "Also notice how with the Gemini API, we record some additional information related to the safety attributes."
   ]
  },
  {
   "cell_type": "markdown",
   "metadata": {},
   "source": [
    "## Running the experiment via the command line\n",
    "\n",
    "We can also run the experiment via the command line. The command is as follows (assuming that your working directory is the current directory of this notebook, i.e. `examples/gemini`):\n",
    "```bash\n",
    "prompto_run_experiment --file data/input/gemini-example.jsonl --max-queries 30\n",
    "```"
   ]
  }
 ],
 "metadata": {
  "kernelspec": {
   "display_name": "prompto",
   "language": "python",
   "name": "python3"
  },
  "language_info": {
   "codemirror_mode": {
    "name": "ipython",
    "version": 3
   },
   "file_extension": ".py",
   "mimetype": "text/x-python",
   "name": "python",
   "nbconvert_exporter": "python",
   "pygments_lexer": "ipython3",
   "version": "3.11.9"
  }
 },
 "nbformat": 4,
 "nbformat_minor": 2
}
