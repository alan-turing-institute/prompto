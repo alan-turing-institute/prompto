{
 "cells": [
  {
   "cell_type": "markdown",
   "metadata": {},
   "source": [
    "# Uploading videos to Gemini"
   ]
  },
  {
   "cell_type": "code",
   "execution_count": 1,
   "metadata": {},
   "outputs": [
    {
     "name": "stderr",
     "output_type": "stream",
     "text": [
      "/Users/fnanni/Projects/prompto/.venv/lib/python3.11/site-packages/tqdm/auto.py:21: TqdmWarning: IProgress not found. Please update jupyter and ipywidgets. See https://ipywidgets.readthedocs.io/en/stable/user_install.html\n",
      "  from .autonotebook import tqdm as notebook_tqdm\n"
     ]
    }
   ],
   "source": [
    "import os\n",
    "import time\n",
    "import json\n",
    "import base64\n",
    "import hashlib\n",
    "import google.generativeai as genai"
   ]
  },
  {
   "cell_type": "code",
   "execution_count": 2,
   "metadata": {},
   "outputs": [],
   "source": [
    "experiment_location = \"data/input\"\n",
    "filename = \"gemini-multimodal-video.jsonl\"\n",
    "media_location = \"data/media\""
   ]
  },
  {
   "cell_type": "code",
   "execution_count": 3,
   "metadata": {},
   "outputs": [],
   "source": [
    "GEMINI_API_KEY = os.environ.get(\"GEMINI_API_KEY\")\n",
    "if GEMINI_API_KEY is None:\n",
    "    raise ValueError(\"GEMINI_API_KEY is not set\")\n",
    "\n",
    "genai.configure(api_key=GEMINI_API_KEY)"
   ]
  },
  {
   "cell_type": "code",
   "execution_count": 4,
   "metadata": {},
   "outputs": [],
   "source": [
    "def compute_sha256_base64(file_path):\n",
    "    hasher = hashlib.sha256()\n",
    "    with open(file_path, \"rb\") as f:\n",
    "        for chunk in iter(lambda: f.read(8192), b\"\"):\n",
    "            hasher.update(chunk)\n",
    "    digest_bytes = hasher.digest()\n",
    "    return base64.b64encode(digest_bytes).decode(\"utf-8\")\n",
    "\n",
    "\n",
    "def upload(file_path):\n",
    "\n",
    "    # Compute the hash for your local video.\n",
    "    local_hash = compute_sha256_base64(file_path)\n",
    "    # List all files already uploaded.\n",
    "    files_response = list(genai.list_files())\n",
    "    uploaded = False\n",
    "    for file in files_response:\n",
    "        hex_str = file.sha256_hash.decode(\"utf-8\")\n",
    "        raw_bytes = bytes.fromhex(hex_str)\n",
    "        converted_b64 = base64.b64encode(raw_bytes).decode(\"utf-8\")\n",
    "        if converted_b64 == local_hash:\n",
    "            return file.name\n",
    "    if uploaded == False:\n",
    "        file = genai.upload_file(path=file_path)\n",
    "\n",
    "        # Poll until the video has been processed\n",
    "        while file.state.name == \"PROCESSING\":\n",
    "            print(\"Waiting for file to be processed.\")\n",
    "            time.sleep(10)\n",
    "            file = genai.get_file(file.name)\n",
    "\n",
    "        if file.state.name == \"FAILED\":\n",
    "            raise ValueError(\"File processing failed\")\n",
    "        return file.name"
   ]
  },
  {
   "cell_type": "code",
   "execution_count": 5,
   "metadata": {},
   "outputs": [],
   "source": [
    "files_to_upload = set()\n",
    "experiment_path = f\"{experiment_location}/{filename}\"\n",
    "\n",
    "# Read and collect media file paths\n",
    "with open(experiment_path, \"r\") as f:\n",
    "    lines = f.readlines()\n",
    "\n",
    "data_list = []\n",
    "\n",
    "for line in lines:\n",
    "    data = json.loads(line)\n",
    "    data_list.append(data)\n",
    "\n",
    "    if not isinstance(data.get(\"prompt\"), list):\n",
    "        continue\n",
    "\n",
    "    files_to_upload.update(\n",
    "        f'{media_location}/{el[\"media\"]}'\n",
    "        for prompt in data[\"prompt\"]\n",
    "        for part in prompt.get(\"parts\", [])\n",
    "        if isinstance(el := part, dict) and \"media\" in el\n",
    "    )\n",
    "\n",
    "# Upload files and store mappings\n",
    "genai_files = {}\n",
    "for file_path in files_to_upload:\n",
    "    uploaded_filename = upload(file_path)\n",
    "    genai_files[file_path] = uploaded_filename\n",
    "\n",
    "# Modify data to include uploaded filenames\n",
    "for data in data_list:\n",
    "    if isinstance(data.get(\"prompt\"), list):\n",
    "        for prompt in data[\"prompt\"]:\n",
    "            for part in prompt.get(\"parts\", []):\n",
    "                if isinstance(part, dict) and \"media\" in part:\n",
    "                    file_path = f'{media_location}/{part[\"media\"]}'\n",
    "                    if file_path in genai_files:\n",
    "                        part[\"uploaded_filename\"] = genai_files[file_path]\n",
    "\n",
    "# Write modified data back to the JSONL file\n",
    "with open(experiment_path, \"w\") as f:\n",
    "    for data in data_list:\n",
    "        f.write(json.dumps(data) + \"\\n\")"
   ]
  }
 ],
 "metadata": {
  "kernelspec": {
   "display_name": ".venv",
   "language": "python",
   "name": "python3"
  },
  "language_info": {
   "codemirror_mode": {
    "name": "ipython",
    "version": 3
   },
   "file_extension": ".py",
   "mimetype": "text/x-python",
   "name": "python",
   "nbconvert_exporter": "python",
   "pygments_lexer": "ipython3",
   "version": "3.11.6"
  }
 },
 "nbformat": 4,
 "nbformat_minor": 2
}
