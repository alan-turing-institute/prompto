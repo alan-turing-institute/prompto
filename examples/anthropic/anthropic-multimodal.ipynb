{
 "cells": [
  {
   "cell_type": "markdown",
   "metadata": {},
   "source": [
    "# Using prompto for multimodal prompting with Anthropic"
   ]
  },
  {
   "cell_type": "code",
   "execution_count": 1,
   "metadata": {},
   "outputs": [],
   "source": [
    "from prompto.settings import Settings\n",
    "from prompto.experiment import Experiment\n",
    "from dotenv import load_dotenv\n",
    "import warnings\n",
    "import os"
   ]
  },
  {
   "cell_type": "markdown",
   "metadata": {},
   "source": [
    "When using `prompto` to query models from the Anthropic API, lines in our experiment `.jsonl` files must have `\"api\": \"anthropic\"` in the prompt dict. \n",
    "\n",
    "## Environment variables\n",
    "\n",
    "For the [Anthropic API](https://alan-turing-institute.github.io/prompto/docs/anthropic/), there are two environment variables that could be set:\n",
    "- `ANTHROPIC_API_KEY`: the API key for the Anthropic API\n",
    "\n",
    "As mentioned in the [environment variables docs](https://alan-turing-institute.github.io/prompto/docs/environment_variables/#model-specific-environment-variables), there are also model-specific environment variables too which can be utilised. In particular, when you specify a `model_name` key in a prompt dict, one could also specify a `ANTHROPIC_API_KEY_model_name` environment variable to indicate the API key used for that particular model (where \"model_name\" is replaced to whatever the corresponding value of the `model_name` key is). We will see a concrete example of this later.\n",
    "\n",
    "To set environment variables, one can simply have these in a `.env` file which specifies these environment variables as key-value pairs:\n",
    "```\n",
    "ANTHROPIC_API_KEY=<YOUR-ANTHROPIC-KEY>\n",
    "```\n",
    "\n",
    "If you make this file, you can run the following which should return `True` if it's found one, or `False` otherwise:"
   ]
  },
  {
   "cell_type": "code",
   "execution_count": 2,
   "metadata": {},
   "outputs": [
    {
     "data": {
      "text/plain": [
       "True"
      ]
     },
     "execution_count": 2,
     "metadata": {},
     "output_type": "execute_result"
    }
   ],
   "source": [
    "load_dotenv(dotenv_path=\".env\")"
   ]
  },
  {
   "cell_type": "markdown",
   "metadata": {},
   "source": [
    "Now, we obtain those values. We raise an error if the `ANTHROPIC_API_KEY` environment variable hasn't been set:"
   ]
  },
  {
   "cell_type": "code",
   "execution_count": 3,
   "metadata": {},
   "outputs": [],
   "source": [
    "ANTHROPIC_API_KEY = os.environ.get(\"ANTHROPIC_API_KEY\")\n",
    "if ANTHROPIC_API_KEY is None:\n",
    "    raise ValueError(\"ANTHROPIC_API_KEY is not set\")"
   ]
  },
  {
   "cell_type": "markdown",
   "metadata": {},
   "source": [
    "If you get any errors or warnings in the above two cells, try to fix your `.env` file like the example we have above to get these variables set."
   ]
  },
  {
   "cell_type": "markdown",
   "metadata": {},
   "source": [
    "## Types of prompts\n",
    "\n",
    "With the Anthropic API, the prompt (given via the `\"prompt\"` key in the prompt dict) can take several forms:\n",
    "- a string: a single prompt to obtain a response for\n",
    "- a list of strings: a sequence of prompts to send to the model\n",
    "    - this is useful in the use case of simulating a conversation with the model by defining the user prompts sequentially\n",
    "- a list of dictionaries with keys \"role\" and \"content\", where \"role\" is one of \"user\", \"assistant\", or \"system\" and \"content\" is the message\n",
    "    - this is useful in the case of passing in some conversation history or to pass in a system prompt to the model\n",
    "\n",
    "## Multimodal prompts\n",
    "\n",
    "For prompting the model with multimodal inputs, we use this last format where we define a prompt by specifying the role of the prompt and then a list of parts that make up the prompt. Individual pieces of the part can be text, images or video which are passed to the model as a multimodal input. In this setting, the prompt can be defined flexibly with text interspersed with images or video.\n",
    "\n",
    "When specifying an individual part of the prompt, we define this using a dictionary with keys:\n",
    "- `\"type\"` is one of `\"text\"` or `\"image\"`\n",
    "- if `\"type\"` is `\"text\"`, then you must have a \"text\" key with the text content\n",
    "- if `\"type\"` is `\"image\"`, then you must have a `\"source\"` key. This must also be a dictionary with keys \"media\" specifying the [local path](#specifying-local-files) of an image and \"media_type\" specifying the type of media (e.g. `\"image/jpeg\"`)\n",
    "\n",
    "This is similar to how you'd set up a multimodal prompt for the Anthropic API (see [Anthropic's documentation](https://docs.anthropic.com/en/docs/build-with-claude/vision)).\n",
    "\n",
    "You can also pass in a string which will be taken as a text prompt.\n",
    "\n",
    "An example of a multimodal prompt is the following:\n",
    "```python\n",
    "[\n",
    "    {\n",
    "        \"role\": \"user\",\n",
    "        \"content\": [\n",
    "            \"what is in this image?\",\n",
    "            {\"type\": \"image\", \"source\": {\"media\": \"image.jpg\", \"media_type\": \"image/jpeg\"}},\n",
    "        ]\n",
    "    },\n",
    "]\n",
    "```\n",
    "\n",
    "Here, we have a list of one dictionary where we specify the \"role\" as \"user\" and \"content\" as a list of two elements: the first specifies a text string and the second is a dictionary specifying an image. \n",
    "\n",
    "For this notebook, we have created an input file in [data/input/anthropic-multimodal-example.jsonl](https://github.com/alan-turing-institute/prompto/blob/main/examples/anthropic/data/input/anthropic-multimodal-example.jsonl) with several multimodal prompts with local files as an illustration.\n",
    "\n",
    "## Specifying local files\n",
    "\n",
    "When specifying the local files, the file paths must be relative file paths to the `media/` folder in the data folder. For example, if you have an image file `image.jpg` in the `media/` folder, you would specify this as `\"source\": \"image.jpg\"` in the prompt. If you have a video file `video.mp4` in the `media/videos/` folder, you would specify this as `\"source\": \"videos/video.mp4\"` in the prompt."
   ]
  },
  {
   "cell_type": "code",
   "execution_count": 4,
   "metadata": {},
   "outputs": [],
   "source": [
    "settings = Settings(data_folder=\"./data\", max_queries=30)\n",
    "experiment = Experiment(\n",
    "    file_name=\"anthropic-multimodal-example.jsonl\", settings=settings\n",
    ")"
   ]
  },
  {
   "cell_type": "markdown",
   "metadata": {},
   "source": [
    "We set `max_queries` to 30 so we send 30 queries a minute (every 2 seconds)."
   ]
  },
  {
   "cell_type": "code",
   "execution_count": 5,
   "metadata": {},
   "outputs": [
    {
     "name": "stdout",
     "output_type": "stream",
     "text": [
      "Settings: data_folder=./data, max_queries=30, max_attempts=3, parallel=False\n",
      "Subfolders: input_folder=./data/input, output_folder=./data/output, media_folder=./data/media\n"
     ]
    }
   ],
   "source": [
    "print(settings)"
   ]
  },
  {
   "cell_type": "code",
   "execution_count": 6,
   "metadata": {},
   "outputs": [
    {
     "data": {
      "text/plain": [
       "3"
      ]
     },
     "execution_count": 6,
     "metadata": {},
     "output_type": "execute_result"
    }
   ],
   "source": [
    "len(experiment.experiment_prompts)"
   ]
  },
  {
   "cell_type": "markdown",
   "metadata": {},
   "source": [
    "We can see the prompts that we have in the `experiment_prompts` attribute:"
   ]
  },
  {
   "cell_type": "code",
   "execution_count": 7,
   "metadata": {},
   "outputs": [
    {
     "data": {
      "text/plain": [
       "[{'id': 0,\n",
       "  'api': 'anthropic',\n",
       "  'model_name': 'claude-3-5-sonnet-20241022',\n",
       "  'prompt': [{'role': 'user',\n",
       "    'content': ['describe what is happening in this image',\n",
       "     {'type': 'image',\n",
       "      'source': {'media': 'pantani_giro.jpg', 'media_type': 'image/jpeg'}}]}],\n",
       "  'parameters': {'temperature': 1, 'max_tokens': 100}},\n",
       " {'id': 1,\n",
       "  'api': 'anthropic',\n",
       "  'model_name': 'claude-3-5-sonnet-20241022',\n",
       "  'prompt': [{'role': 'user',\n",
       "    'content': [{'type': 'image',\n",
       "      'source': {'media': 'mortadella.jpg', 'media_type': 'image/jpeg'}},\n",
       "     'what is this?']}],\n",
       "  'parameters': {'temperature': 1, 'max_tokens': 100}},\n",
       " {'id': 2,\n",
       "  'api': 'anthropic',\n",
       "  'model_name': 'claude-3-5-sonnet-20241022',\n",
       "  'prompt': [{'role': 'user',\n",
       "    'content': ['what is in this image?',\n",
       "     {'type': 'image',\n",
       "      'source': {'media': 'pantani_giro.jpg', 'media_type': 'image/jpeg'}}]},\n",
       "   {'role': 'assistant',\n",
       "    'content': 'This is image shows a group of cyclists.'},\n",
       "   {'role': 'user',\n",
       "    'content': 'are there any notable cyclists in this image? what are their names?'}],\n",
       "  'parameters': {'temperature': 1, 'max_tokens': 100}}]"
      ]
     },
     "execution_count": 7,
     "metadata": {},
     "output_type": "execute_result"
    }
   ],
   "source": [
    "experiment.experiment_prompts"
   ]
  },
  {
   "cell_type": "markdown",
   "metadata": {},
   "source": [
    "- In the first prompt (`\"id\": 0`), we have a `\"prompt\"` key which specifies a prompt where we ask the model to \"describe what is happening in this image\" and we pass in an image which is defined using a dictionary with \"type\" and \"source\" keys pointing to a file in the media folder\n",
    "- In the second prompt (`\"id\": 1`), we have a `\"prompt\"` key which specifies a prompt where we first pass in an image defined using a dictionary with \"type\" and \"source\" keys pointing to a file in the media folder and then we ask the model \"what is this?\"\n",
    "- In the third prompt (`\"id\": 2`), we have a `\"prompt\"` key which is a list of dictionaries. Each of these dictionaries have a \"role\" and \"content\" key and we specify a user/model interaction. First we ask the model \"what is in this image?\" along with an image defined by a dictionary with \"type\" and \"source\" keys to point to a file in the media folder. We then have a model response and another user query\n",
    "\n",
    "For each of these prompts, we specify a `\"model_name\"` key to be `\"claude-3-5-sonnet-20241022\"`."
   ]
  },
  {
   "cell_type": "markdown",
   "metadata": {},
   "source": [
    "## Running the experiment\n",
    "\n",
    "We now can run the experiment using the async method `process` which will process the prompts in the input file asynchronously. Note that a new folder named `timestamp-anthropic-example` (where \"timestamp\" is replaced with the actual date and time of processing) will be created in the output directory and we will move the input file to the output directory. As the responses come in, they will be written to the output file and there are logs that will be printed to the console as well as being written to a log file in the output directory."
   ]
  },
  {
   "cell_type": "code",
   "execution_count": 8,
   "metadata": {},
   "outputs": [
    {
     "name": "stderr",
     "output_type": "stream",
     "text": [
      "Sending 3 queries at 30 QPM with RI of 2.0s (attempt 1/3): 100%|██████████| 3/3 [00:06<00:00,  2.00s/query]\n",
      "Waiting for responses (attempt 1/3): 100%|██████████| 3/3 [00:03<00:00,  1.28s/query]\n"
     ]
    }
   ],
   "source": [
    "responses, avg_query_processing_time = await experiment.process()"
   ]
  },
  {
   "cell_type": "markdown",
   "metadata": {},
   "source": [
    "We can see that the responses are written to the output file, and we can also see them as the returned object. From running the experiment, we obtain prompt dicts where there is now a `\"response\"` key which contains the response(s) from the model.\n",
    "\n",
    "For the case where the prompt is a list of strings, we see that the response is a list of strings where each string is the response to the corresponding prompt."
   ]
  },
  {
   "cell_type": "code",
   "execution_count": 9,
   "metadata": {},
   "outputs": [
    {
     "data": {
      "text/plain": [
       "[{'id': 0,\n",
       "  'api': 'anthropic',\n",
       "  'model_name': 'claude-3-5-sonnet-20241022',\n",
       "  'prompt': [{'role': 'user',\n",
       "    'content': ['describe what is happening in this image',\n",
       "     {'type': 'image',\n",
       "      'source': {'media': 'pantani_giro.jpg', 'media_type': 'image/jpeg'}}]}],\n",
       "  'parameters': {'temperature': 1, 'max_tokens': 100},\n",
       "  'timestamp_sent': '29-10-2024-15-36-29',\n",
       "  'response': \"This image shows professional cyclists competing in what appears to be a cycling race, likely from the 1990s based on the equipment and team jerseys visible. There are several riders in the frame, including one wearing the distinctive pink jersey (known as the maglia rosa in the Giro d'Italia). The cyclists are riding along a stone wall with an iron fence on top, and they're using classic road racing bikes with distinctive team color schemes - notably some turquoise Bian\"},\n",
       " {'id': 1,\n",
       "  'api': 'anthropic',\n",
       "  'model_name': 'claude-3-5-sonnet-20241022',\n",
       "  'prompt': [{'role': 'user',\n",
       "    'content': [{'type': 'image',\n",
       "      'source': {'media': 'mortadella.jpg', 'media_type': 'image/jpeg'}},\n",
       "     'what is this?']}],\n",
       "  'parameters': {'temperature': 1, 'max_tokens': 100},\n",
       "  'timestamp_sent': '29-10-2024-15-36-31',\n",
       "  'response': 'These appear to be mortadella and other Italian cold cuts or processed meats. The larger ones with the string/twine pattern wrapped around them are likely mortadella (a type of Italian bologna), while the pink spotted ones appear to be a different variety of cold cut or processed meat product. The spotted pattern is characteristic of certain Italian deli meats where small pieces of fat or other ingredients are distributed throughout the meat. These are commonly sliced and served in sandwiches or on'},\n",
       " {'id': 2,\n",
       "  'api': 'anthropic',\n",
       "  'model_name': 'claude-3-5-sonnet-20241022',\n",
       "  'prompt': [{'role': 'user',\n",
       "    'content': ['what is in this image?',\n",
       "     {'type': 'image',\n",
       "      'source': {'media': 'pantani_giro.jpg', 'media_type': 'image/jpeg'}}]},\n",
       "   {'role': 'assistant',\n",
       "    'content': 'This is image shows a group of cyclists.'},\n",
       "   {'role': 'user',\n",
       "    'content': 'are there any notable cyclists in this image? what are their names?'}],\n",
       "  'parameters': {'temperature': 1, 'max_tokens': 100},\n",
       "  'timestamp_sent': '29-10-2024-15-36-33',\n",
       "  'response': \"From the image, I can see this appears to be from a professional cycling race, likely from the 1990s based on the equipment and jerseys. While there are professional cyclists in the image, including one wearing the pink jersey (which is the leader's jersey in the Giro d'Italia), I should refrain from identifying specific individuals by name. The image shows a group of riders from various teams including Mercatone Uno and what appears to be racing in a major\"}]"
      ]
     },
     "execution_count": 9,
     "metadata": {},
     "output_type": "execute_result"
    }
   ],
   "source": [
    "responses"
   ]
  },
  {
   "cell_type": "markdown",
   "metadata": {},
   "source": [
    "Also notice how with the Anthropic API, we record some additional information related to the safety attributes."
   ]
  },
  {
   "cell_type": "markdown",
   "metadata": {},
   "source": [
    "## Running the experiment via the command line\n",
    "\n",
    "We can also run the experiment via the command line. The command is as follows (assuming that your working directory is the current directory of this notebook, i.e. `examples/anthropic`):\n",
    "```bash\n",
    "prompto_run_experiment --file data/input/anthropic-multimodal-example.jsonl --max-queries 30\n",
    "```"
   ]
  }
 ],
 "metadata": {
  "kernelspec": {
   "display_name": "prompto",
   "language": "python",
   "name": "python3"
  },
  "language_info": {
   "codemirror_mode": {
    "name": "ipython",
    "version": 3
   },
   "file_extension": ".py",
   "mimetype": "text/x-python",
   "name": "python",
   "nbconvert_exporter": "python",
   "pygments_lexer": "ipython3",
   "version": "3.11.9"
  }
 },
 "nbformat": 4,
 "nbformat_minor": 2
}
