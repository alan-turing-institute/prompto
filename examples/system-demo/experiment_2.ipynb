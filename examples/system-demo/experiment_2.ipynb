{
 "cells": [
  {
   "cell_type": "markdown",
   "metadata": {},
   "source": [
    "# Querying multiple APIs together in one experiment asynchoronously"
   ]
  },
  {
   "cell_type": "code",
   "execution_count": null,
   "metadata": {},
   "outputs": [],
   "source": [
    "import time\n",
    "import os\n",
    "import requests\n",
    "from dotenv import load_dotenv\n",
    "\n",
    "from prompto.settings import Settings\n",
    "from prompto.experiment import Experiment\n",
    "\n",
    "from api_utils import send_prompts_sync\n",
    "from dataset_utils import load_prompt_dicts, load_prompts, generate_experiment_1_file, combine_experiment_files\n",
    "\n",
    "load_dotenv(dotenv_path=\".env\")"
   ]
  },
  {
   "cell_type": "markdown",
   "metadata": {},
   "source": [
    "## Setup input jsonl files"
   ]
  },
  {
   "cell_type": "code",
   "execution_count": null,
   "metadata": {},
   "outputs": [],
   "source": [
    "alpaca_prompts = load_prompts(\"./sample_prompts.json\")[:10]"
   ]
  },
  {
   "cell_type": "code",
   "execution_count": null,
   "metadata": {},
   "outputs": [],
   "source": [
    "OPENAI_EXPERIMENT_FILE = \"./data/input/openai.jsonl\"\n",
    "GEMINI_EXPERIMENT_FILE = \"./data/input/gemini.jsonl\"\n",
    "OLLAMA_EXPERIMENT_FILE = \"./data/input/ollama.jsonl\"\n",
    "COMBINED_EXPERIMENT_FILENAME = \"./data/input/all_experiments.jsonl\"\n",
    "INPUT_EXPERIMENT_FILEDIR = \"./data/input\"\n",
    "\n",
    "if not os.path.isdir(INPUT_EXPERIMENT_FILEDIR):\n",
    "    os.mkdir(INPUT_EXPERIMENT_FILEDIR)"
   ]
  },
  {
   "cell_type": "markdown",
   "metadata": {},
   "source": [
    "Generate the three files seperate experiment json files. Then load them in and merge into a single file. "
   ]
  },
  {
   "cell_type": "code",
   "execution_count": null,
   "metadata": {},
   "outputs": [],
   "source": [
    "generate_experiment_1_file(\n",
    "    path=OPENAI_EXPERIMENT_FILE,\n",
    "    prompts=alpaca_prompts,\n",
    "    api=\"openai\",\n",
    "    model_name=\"gpt-3.5-turbo\",\n",
    "    params={\"n\": 1, \"temperature\": 0.9, \"max_tokens\": 100},\n",
    ")\n",
    "\n",
    "generate_experiment_1_file(\n",
    "    path=GEMINI_EXPERIMENT_FILE,\n",
    "    prompts=alpaca_prompts,\n",
    "    api=\"gemini\",\n",
    "    model_name=\"gemini-1.5-flash\",\n",
    "    params={\"candidate_count\": 1, \"temperature\": 0.9, \"max_output_tokens\": 100},\n",
    ")\n",
    "\n",
    "generate_experiment_1_file(\n",
    "    path=OLLAMA_EXPERIMENT_FILE,\n",
    "    prompts=alpaca_prompts,\n",
    "    api=\"ollama\",\n",
    "    model_name=\"llama3\",\n",
    "    params={\"temperature\": 0.9, \"num_predict\": 100, \"seed\": 42},\n",
    ")"
   ]
  },
  {
   "cell_type": "code",
   "execution_count": null,
   "metadata": {},
   "outputs": [],
   "source": [
    "combine_experiment_files(experiment_paths=[OPENAI_EXPERIMENT_FILE, GEMINI_EXPERIMENT_FILE, OLLAMA_EXPERIMENT_FILE], output_path=COMBINED_EXPERIMENT_FILENAME)"
   ]
  },
  {
   "cell_type": "code",
   "execution_count": null,
   "metadata": {},
   "outputs": [],
   "source": [
    "print(\n",
    "    f\"len(load_prompt_dicts(COMBINED_EXPERIMENT_FILENAME)): {len(load_prompt_dicts(COMBINED_EXPERIMENT_FILENAME))}\"\n",
    ")"
   ]
  },
  {
   "cell_type": "code",
   "execution_count": null,
   "metadata": {},
   "outputs": [],
   "source": [
    "multiple_api_experiment = Experiment(\n",
    "    file_name=\"all_experiments.jsonl\", settings=Settings(data_folder=\"./data\", max_queries=500)\n",
    ")\n",
    "\n",
    "start = time.time()\n",
    "openai_responses, _ = await multiple_api_experiment.process()\n",
    "print(time.time() - start)"
   ]
  }
 ],
 "metadata": {
  "kernelspec": {
   "display_name": "prompto_env",
   "language": "python",
   "name": "python3"
  },
  "language_info": {
   "codemirror_mode": {
    "name": "ipython",
    "version": 3
   },
   "file_extension": ".py",
   "mimetype": "text/x-python",
   "name": "python",
   "nbconvert_exporter": "python",
   "pygments_lexer": "ipython3",
   "version": "3.12.4"
  }
 },
 "nbformat": 4,
 "nbformat_minor": 2
}
