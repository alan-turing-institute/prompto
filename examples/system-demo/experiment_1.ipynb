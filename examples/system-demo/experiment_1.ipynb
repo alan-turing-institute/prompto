{
 "cells": [
  {
   "cell_type": "markdown",
   "metadata": {},
   "source": [
    "# Async `Prompto` vs. Python for loop"
   ]
  },
  {
   "cell_type": "code",
   "execution_count": 1,
   "metadata": {},
   "outputs": [],
   "source": [
    "from model_utils import Models\n",
    "from dataset_utils import load_prompt_dicts"
   ]
  },
  {
   "cell_type": "code",
   "execution_count": 2,
   "metadata": {},
   "outputs": [],
   "source": [
    "def send_prompts(prompt_dicts: list[dict], model: Models) -> list[str]:\n",
    "    '''Naive for loop to synchronously dispatch prompts'''\n",
    "    for prompt_dict in prompt_dicts:\n",
    "        model.send_prompt(prompt_dict)"
   ]
  },
  {
   "cell_type": "code",
   "execution_count": 3,
   "metadata": {},
   "outputs": [
    {
     "name": "stdout",
     "output_type": "stream",
     "text": [
      "send 3.5: How does technology impact us?\n",
      "send 3.5: What is the North Pole?\n",
      "send 3.5: What is the capital of France?\n"
     ]
    }
   ],
   "source": [
    "prompt_dicts = load_prompt_dicts(\"./data/input/openai-gpt-3.5.jsonl\")\n",
    "send_prompts(prompt_dicts, Models.OPENAI_GPT3_5)"
   ]
  }
 ],
 "metadata": {
  "kernelspec": {
   "display_name": ".venv",
   "language": "python",
   "name": "python3"
  },
  "language_info": {
   "codemirror_mode": {
    "name": "ipython",
    "version": 3
   },
   "file_extension": ".py",
   "mimetype": "text/x-python",
   "name": "python",
   "nbconvert_exporter": "python",
   "pygments_lexer": "ipython3",
   "version": "3.10.10"
  }
 },
 "nbformat": 4,
 "nbformat_minor": 2
}
