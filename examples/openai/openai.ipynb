{
 "cells": [
  {
   "cell_type": "markdown",
   "metadata": {},
   "source": [
    "# Using `prompto` with OpenAI"
   ]
  },
  {
   "cell_type": "code",
   "execution_count": 1,
   "metadata": {},
   "outputs": [],
   "source": [
    "from prompto.settings import Settings\n",
    "from prompto.experiment import Experiment\n",
    "from dotenv import load_dotenv\n",
    "import warnings\n",
    "import os"
   ]
  },
  {
   "cell_type": "markdown",
   "metadata": {},
   "source": [
    "When using `prompto` to query models from the OpenAI API, lines in our experiment `.jsonl` files must have `\"api\": \"openai\"` in the prompt dict. \n",
    "\n",
    "## Environment variables\n",
    "\n",
    "For the [OpenAI API](../../docs/models.md#openai), there are two environment variables that could be set:\n",
    "- `OPENAI_API_KEY`: the API key for the OpenAI API\n",
    "- `OPENAI_MODEL_NAME`: the default model name for the OpenAI API (optional)\n",
    "\n",
    "As mentioned in the [model docs](../../docs/models.md#model-specific-environment-variables), there are also model-specific environment variables too which can be utilised. In particular, if you specify a `model_name` key in a prompt dict, one could also specify a `OPENAI_API_KEY_model_name` environment variable to indicate the API key used for that particular model (where \"model_name\" is replaced to whatever the corresponding value of the `model_name` key is). We will see a concrete example of this later.\n",
    "\n",
    "Note that `OPENAI_MODEL_NAME` is optional since you can simply specify `model_name` to each prompt dict that has `\"api\": \"openai\"`.\n",
    "\n",
    "To set environment variables, one can simply have these in a `.env` file which specifies these environment variables as key-value pairs:\n",
    "```\n",
    "OPENAI_API_KEY = <YOUR-OPENAI-KEY>\n",
    "OPENAI_MODEL_NAME = <DEFAULT-OPENAI-MODEL>\n",
    "```\n",
    "\n",
    "If you make this file, you can run the following which should return `True` if it's found one, or `False` otherwise:"
   ]
  },
  {
   "cell_type": "code",
   "execution_count": 2,
   "metadata": {},
   "outputs": [
    {
     "data": {
      "text/plain": [
       "True"
      ]
     },
     "execution_count": 2,
     "metadata": {},
     "output_type": "execute_result"
    }
   ],
   "source": [
    "load_dotenv(dotenv_path=\".env\")"
   ]
  },
  {
   "cell_type": "markdown",
   "metadata": {},
   "source": [
    "Now, we obtain those values. We raise an error if the `OPENAI_API_KEY` environment variable hasn't been set:"
   ]
  },
  {
   "cell_type": "code",
   "execution_count": 3,
   "metadata": {},
   "outputs": [],
   "source": [
    "OPENAI_API_KEY = os.environ.get(\"OPENAI_API_KEY\")\n",
    "if OPENAI_API_KEY is None:\n",
    "    raise ValueError(\"OPENAI_API_KEY is not set\")"
   ]
  },
  {
   "cell_type": "markdown",
   "metadata": {},
   "source": [
    "We will only raise a warning if `OPENAI_MODEL_NAME` hasn't been set:"
   ]
  },
  {
   "cell_type": "code",
   "execution_count": 4,
   "metadata": {},
   "outputs": [
    {
     "name": "stdout",
     "output_type": "stream",
     "text": [
      "Default OpenAI model: gpt-4o\n"
     ]
    }
   ],
   "source": [
    "OPENAI_MODEL_NAME = os.environ.get(\"OPENAI_MODEL_NAME\")\n",
    "if OPENAI_MODEL_NAME is None:\n",
    "    warnings.warn(\"OPENAI_MODEL_NAME is not set\")\n",
    "else:\n",
    "    print(f\"Default OpenAI model: {OPENAI_MODEL_NAME}\")"
   ]
  },
  {
   "cell_type": "markdown",
   "metadata": {},
   "source": [
    "If you get any errors or warnings in the above two cells, try to fix your `.env` file like the example we have above to get these variables set."
   ]
  },
  {
   "cell_type": "markdown",
   "metadata": {},
   "source": [
    "## Types of prompts\n",
    "\n",
    "With the OpenAI API, the prompt (given via the `\"prompt\"` key in the prompt dict) can take several forms:\n",
    "- a string: a single prompt to obtain a response for\n",
    "- a list of strings: a sequence of prompts to send to the model\n",
    "    - this is useful in the use case of simulating a conversation with the model by defining the user prompts sequentially\n",
    "- a list of dictionaries with keys \"role\" and \"content\", where \"role\" is one of \"user\", \"assistant\", or \"system\" and \"content\" is the message\n",
    "    - this is useful in the case of passing in some conversation history or to pass in a system prompt to the model\n",
    "\n",
    "We have created an input file in [data/input/openai-example.jsonl](./data/input/openai-example.jsonl) with an example of each of these cases as an illustration."
   ]
  },
  {
   "cell_type": "code",
   "execution_count": 5,
   "metadata": {},
   "outputs": [],
   "source": [
    "settings = Settings(data_folder=\"./data\", max_queries=30)\n",
    "experiment = Experiment(file_name=\"openai-example.jsonl\", settings=settings)"
   ]
  },
  {
   "cell_type": "markdown",
   "metadata": {},
   "source": [
    "We set `max_queries` to 30 so we send 30 queries a minute (every 2 seconds)."
   ]
  },
  {
   "cell_type": "code",
   "execution_count": 6,
   "metadata": {},
   "outputs": [
    {
     "name": "stdout",
     "output_type": "stream",
     "text": [
      "Settings: data_folder=./data, max_queries=30, max_attempts=3, parallel=False\n",
      "Subfolders: input_folder=./data/input, output_folder=./data/output, media_folder=./data/media\n"
     ]
    }
   ],
   "source": [
    "print(settings)"
   ]
  },
  {
   "cell_type": "code",
   "execution_count": 7,
   "metadata": {},
   "outputs": [
    {
     "data": {
      "text/plain": [
       "5"
      ]
     },
     "execution_count": 7,
     "metadata": {},
     "output_type": "execute_result"
    }
   ],
   "source": [
    "len(experiment.experiment_prompts)"
   ]
  },
  {
   "cell_type": "markdown",
   "metadata": {},
   "source": [
    "We can see the prompts that we have in the `experiment_prompts` attribute:"
   ]
  },
  {
   "cell_type": "code",
   "execution_count": 8,
   "metadata": {},
   "outputs": [
    {
     "data": {
      "text/plain": [
       "[{'id': 0,\n",
       "  'api': 'openai',\n",
       "  'prompt': 'How does technology impact us?',\n",
       "  'parameters': {'n': 1, 'temperature': 1, 'max_tokens': 1000}},\n",
       " {'id': 1,\n",
       "  'api': 'openai',\n",
       "  'model_name': 'gpt-3.5-turbo',\n",
       "  'prompt': 'How does technology impact us?',\n",
       "  'parameters': {'n': 1, 'temperature': 1, 'max_tokens': 1000}},\n",
       " {'id': 2,\n",
       "  'api': 'openai',\n",
       "  'prompt': ['How does international trade create jobs?',\n",
       "   'I want a joke about that'],\n",
       "  'parameters': {'n': 1, 'temperature': 1, 'max_tokens': 1000}},\n",
       " {'id': 3,\n",
       "  'api': 'openai',\n",
       "  'prompt': [{'role': 'system',\n",
       "    'content': 'You are a helpful assistant designed to answer questions briefly.'},\n",
       "   {'role': 'user',\n",
       "    'content': 'What efforts are being made to keep the hakka language alive?'}],\n",
       "  'parameters': {'n': 1, 'temperature': 1, 'max_tokens': 1000}},\n",
       " {'id': 4,\n",
       "  'api': 'openai',\n",
       "  'prompt': [{'role': 'system',\n",
       "    'content': 'You are a helpful assistant designed to answer questions briefly.'},\n",
       "   {'role': 'user', 'content': \"Hello, I'm Bob and I'm 6 years old\"},\n",
       "   {'role': 'assistant', 'content': 'Hi Bob, how may I assist you?'},\n",
       "   {'role': 'user', 'content': 'How old will I be next year?'}],\n",
       "  'parameters': {'n': 1, 'temperature': 1, 'max_tokens': 1000}}]"
      ]
     },
     "execution_count": 8,
     "metadata": {},
     "output_type": "execute_result"
    }
   ],
   "source": [
    "experiment.experiment_prompts"
   ]
  },
  {
   "cell_type": "markdown",
   "metadata": {},
   "source": [
    "- In the first prompt (`\"id\": 0`), we have a `\"prompt\"` key which is a string and we do not specify a `\"model_name\"` key, hence we will use the model specified by the `OPENAI_MODEL_NAME` environment variable.\n",
    "- In the second prompt (`\"id\": 1`), we have a `\"prompt\"` key is also a string but we specify a `\"model_name\"` key to be \"gpt-3.5-turbo\" which will override the default model specified by the `OPENAI_MODEL_NAME` environment variable. We also will first look to see if there is a `OPENAI_API_KEY_gpt_3_5_turbo` environment variable set since we look for model-specific environment variables whenever a `model_name` key is specified. Here, we don't do that, so we will use the `OPENAI_API_KEY` environment variable.\n",
    "- In the third prompt (`\"id\": 2`), we have a `\"prompt\"` key which is a list of strings. Like the first prompt, we also do not specify a `\"model_name\"` key, so we will use the model specified by the `OPENAI_MODEL_NAME` environment variable.\n",
    "- In the fourth prompt (`\"id\": 3`), we have a `\"prompt\"` key which is a list of dictionaries. These dictionaries have a \"role\" and \"content\" key. This acts as passing in a system prompt. Here, we just have a system prompt before a user prompt. No `\"model_name\"` key is specified.\n",
    "- In the fifth prompt (`\"id\": 4`), we have a `\"prompt\"` key which is a list of dictionaries. These dictionaries have a \"role\" and \"content\" key. Here, we have a system prompt and a series of user/assistant interactions before finally having a user prompt. This acts as passing in a system prompt and conversation history. No `\"model_name\"` key is specified."
   ]
  },
  {
   "cell_type": "code",
   "execution_count": 9,
   "metadata": {},
   "outputs": [
    {
     "data": {
      "text/plain": [
       "[{'role': 'system',\n",
       "  'content': 'You are a helpful assistant designed to answer questions briefly.'},\n",
       " {'role': 'user',\n",
       "  'content': 'What efforts are being made to keep the hakka language alive?'}]"
      ]
     },
     "execution_count": 9,
     "metadata": {},
     "output_type": "execute_result"
    }
   ],
   "source": [
    "experiment.experiment_prompts[3][\"prompt\"]"
   ]
  },
  {
   "cell_type": "markdown",
   "metadata": {},
   "source": [
    "## Running the experiment\n",
    "\n",
    "We now can run the experiment using the async method `process` which will process the prompts in the input file asynchronously. Note that a new folder named `timestamp-openai-example` (where \"timestamp\" is replaced with the actual date and time of processing) will be created in the output directory and we will move the input file to the output directory. As the responses come in, they will be written to the output file and there are logs that will be printed to the console as well as being written to a log file in the output directory."
   ]
  },
  {
   "cell_type": "code",
   "execution_count": 10,
   "metadata": {},
   "outputs": [
    {
     "name": "stderr",
     "output_type": "stream",
     "text": [
      "Sending 5 queries  (attempt 1/3): 100%|██████████| 5/5 [00:10<00:00,  2.00s/query]\n",
      "Waiting for responses  (attempt 1/3): 100%|██████████| 5/5 [00:14<00:00,  2.97s/query]\n"
     ]
    }
   ],
   "source": [
    "responses = await experiment.process()"
   ]
  },
  {
   "cell_type": "markdown",
   "metadata": {},
   "source": [
    "We can see that the responses are written to the output file, and we can also see them as the returned object. From running the experiment, we obtain prompt dicts where there is now a `\"response\"` key which contains the response(s) from the model.\n",
    "\n",
    "For the case where the prompt is a list of strings, we see that the response is a list of strings where each string is the response to the corresponding prompt."
   ]
  },
  {
   "cell_type": "code",
   "execution_count": 11,
   "metadata": {},
   "outputs": [
    {
     "data": {
      "text/plain": [
       "([{'id': 1,\n",
       "   'api': 'openai',\n",
       "   'model_name': 'gpt-3.5-turbo',\n",
       "   'prompt': 'How does technology impact us?',\n",
       "   'parameters': {'n': 1, 'temperature': 1, 'max_tokens': 1000},\n",
       "   'response': 'Technology impacts us in many ways, both positively and negatively. Here are a few ways in which technology affects our daily lives:\\n\\n1. Communication: Technology has greatly improved how we communicate with others, allowing us to easily connect with people around the world through social media, email, and messaging apps. This has made it easier to stay in touch with friends and family, but it can also lead to feelings of isolation or lack of face-to-face interaction.\\n\\n2. Productivity: Technology has made many tasks more efficient and streamlined, allowing us to accomplish more in less time. From online project management tools to automated systems, technology has revolutionized how we work and organize our lives.\\n\\n3. Education: Technology has revolutionized the way we learn and access information. Online courses and educational apps have made learning more accessible and flexible, allowing students to study at their own pace and on their own schedule.\\n\\n4. Health: Technology has also had a major impact on healthcare, from electronic health records to telemedicine services. Medical technologies such as imaging systems and wearable devices have improved diagnosis and treatment options, leading to better patient outcomes.\\n\\n5. Environment: Technology has both positive and negative effects on the environment. While advancements in clean energy technology have helped reduce carbon emissions and address climate change, the production and disposal of electronic devices can contribute to e-waste and pollution.\\n\\nOverall, technology has the power to improve our lives in numerous ways, but it is important to be mindful of its potential drawbacks and strive to use it responsibly and ethically.'},\n",
       "  {'id': 3,\n",
       "   'api': 'openai',\n",
       "   'prompt': [{'role': 'system',\n",
       "     'content': 'You are a helpful assistant designed to answer questions briefly.'},\n",
       "    {'role': 'user',\n",
       "     'content': 'What efforts are being made to keep the hakka language alive?'}],\n",
       "   'parameters': {'n': 1, 'temperature': 1, 'max_tokens': 1000},\n",
       "   'response': 'Efforts to keep the Hakka language alive include:\\n\\n1. **Education**: Incorporating Hakka language courses in schools and universities.\\n2. **Media**: Promoting Hakka in television, radio, and online platforms.\\n3. **Cultural Events**: Hosting Hakka cultural festivals and events.\\n4. **Community Programs**: Establishing Hakka language classes and workshops.\\n5. **Documentation**: Recording and preserving Hakka literature, music, and folklore.\\n6. **Government Support**: Securing funding and policy support for Hakka language initiatives.\\n\\nThese combined actions help maintain and revitalize the Hakka language and culture.'},\n",
       "  {'id': 4,\n",
       "   'api': 'openai',\n",
       "   'prompt': [{'role': 'system',\n",
       "     'content': 'You are a helpful assistant designed to answer questions briefly.'},\n",
       "    {'role': 'user', 'content': \"Hello, I'm Bob and I'm 6 years old\"},\n",
       "    {'role': 'assistant', 'content': 'Hi Bob, how may I assist you?'},\n",
       "    {'role': 'user', 'content': 'How old will I be next year?'}],\n",
       "   'parameters': {'n': 1, 'temperature': 1, 'max_tokens': 1000},\n",
       "   'response': 'Next year, you will be 7 years old!'},\n",
       "  {'id': 0,\n",
       "   'api': 'openai',\n",
       "   'prompt': 'How does technology impact us?',\n",
       "   'parameters': {'n': 1, 'temperature': 1, 'max_tokens': 1000},\n",
       "   'response': 'Technology profoundly impacts various aspects of our lives, spanning multiple sectors and influencing societal norms. Here are some key areas where technology has significant effects:\\n\\n### Communication\\n- **Instant Connectivity:** Social media, messaging apps, and video conferencing tools allow instant global communication, erasing geographical boundaries.\\n- **Information Sharing:** The internet enables the rapid dissemination and access to information, improving education, awareness, and transparency.\\n\\n### Healthcare\\n- **Advanced Diagnostics and Treatment:** Technologies like MRI, CT scans, and telemedicine improve diagnostic accuracy and treatment capabilities.\\n- **Health Monitoring:** Wearable devices track vital signs and activity levels, facilitating early detection and continuous monitoring of health conditions.\\n\\n### Education\\n- **Access to Knowledge:** Online courses, digital libraries, and educational platforms provide access to a wealth of information and learning opportunities.\\n- **Interactive Learning:** Educational software and virtual classrooms offer interactive and personalized learning experiences.\\n\\n### Economy\\n- **Automation:** Robotics and AI automate repetitive tasks, leading to increased efficiency but also raising concerns about job displacement.\\n- **E-commerce:** Online shopping platforms transform traditional retail, providing convenience and broadening market access for businesses.\\n\\n### Lifestyle\\n- **Smart Homes:** Home automation systems offer convenience, security, and energy efficiency through smart appliances and IoT devices.\\n- **Entertainment:** Streaming services, video games, and virtual reality provide immersive and on-demand entertainment options.\\n\\n### Transportation\\n- **Improved Mobility:** Innovations like electric vehicles, autonomous cars, and ride-sharing apps enhance mobility and reduce environmental impact.\\n- **Logistics and Supply Chains:** Advanced tracking systems and data analytics optimize supply chain management and logistics.\\n\\n### Social Structures\\n- **Social Interaction:** Social media platforms redefine how people interact, form communities, and influence public opinion; however, they also pose risks of misinformation and cyberbullying.\\n- **Privacy Concerns:** The proliferation of data collection and surveillance poses significant challenges to individual privacy and security.\\n\\n### Work and Productivity\\n- **Remote Work:** Digital tools facilitate remote work, offering flexibility but also blurring the lines between work and personal life.\\n- **Productivity Tools:** Software applications and cloud computing enhance productivity and collaboration, enabling businesses to operate more efficiently.\\n\\n### Environmental Impact\\n- **Sustainable Solutions:** Renewable energy technologies and sustainable practices help combat climate change and reduce ecological footprints.\\n- **Resource Consumption:** The production and disposal of technological devices raise concerns about resource depletion and electronic waste.\\n\\n### Ethical and Social Implications\\n- **Digital Divide:** The unequal access to technology creates disparities in education, job opportunities, and social inclusion.\\n- **AI and Ethics:** The rise of artificial intelligence brings ethical considerations regarding bias, accountability, and the societal impact of automated decision-making.\\n\\nIn summary, technology offers immense benefits and opportunities for advancing society but also presents significant challenges and risks that need careful management and ethical considerations. The key is to harness technology responsibly to maximize its positive impacts while mitigating its negative consequences.'},\n",
       "  {'id': 2,\n",
       "   'api': 'openai',\n",
       "   'prompt': ['How does international trade create jobs?',\n",
       "    'I want a joke about that'],\n",
       "   'parameters': {'n': 1, 'temperature': 1, 'max_tokens': 1000},\n",
       "   'response': [\"International trade creates jobs through several mechanisms:\\n\\n1. **Market Expansion:**\\n   - **Increased Demand:** By allowing access to international markets, businesses can sell their products and services to a larger customer base. This higher demand often necessitates increased production, leading to the creation of more jobs.\\n   - **Economies of Scale:** As companies expand their operations to meet global demand, they often achieve economies of scale, reducing per-unit costs. This can lead to increased profitability and further expansion, driving job creation.\\n\\n2. **Efficiency and Specialization:**\\n   - **Comparative Advantage:** Countries tend to specialize in the production of goods and services where they have a comparative advantage. This specialization can lead to more efficient resource use and greater productivity, which often translates into more and better-paying jobs.\\n   - **Productivity Gains:** As competition intensifies and firms strive to improve efficiency, productivity often increases. Improved productivity can lead to higher wages and job growth.\\n\\n3. **Foreign Direct Investment:**\\n   - **Inward Investment:** Trade openness often attracts foreign direct investment (FDI), as multinational companies establish operations in new markets. This investment can create jobs directly in sectors like manufacturing, services, and technology.\\n   - **Spillover Effects:** FDI can also have spillover effects, such as the transfer of technology and skills, which can stimulate job creation in related industries and sectors.\\n\\n4. **Export-Oriented Jobs:**\\n   - **Direct Employment:** Companies involved in export activities, such as manufacturing firms, logistics providers, and export services, often require additional staff to handle increased activity from international trade.\\n   - **Indirect Employment:** Supporting industries (such as packaging, transportation, and marketing) also benefit from trade, leading to job creation in these sectors.\\n\\n5. **Import-Driven Jobs:**\\n   - **Consumer Goods:** The availability of imported goods can increase consumer spending power and demand, potentially leading to job creation in retail and other service sectors.\\n   - **Intermediate Goods:** Importing intermediate goods (components used in the production of final goods) can reduce production costs, enhance competitiveness, and stimulate job growth in domestic manufacturing.\\n\\n6. **Innovation and Competitiveness:**\\n   - **Technological Advancements:** Exposure to global competition can drive innovation as firms strive to maintain competitiveness. This encourages the development of new products and services, potentially creating jobs in research, development, and other high-skill areas.\\n   - **Skill Development:** International trade can lead to a more dynamic labor market where workers gain new skills and expertise, making them more employable in various industries.\\n\\n7. **Service Sector Growth:**\\n   - **Expanding Services:** With globalization, there is a growing demand for services such as finance, insurance, travel, and professional services. These sectors often expand alongside increased international trade, creating numerous job opportunities.\\n\\nIn essence, international trade helps to allocate resources more efficiently, stimulates economic growth, and fosters an environment where businesses can thrive and create jobs. However, it's important to note that the benefits of trade are not evenly distributed, and some workers and industries may face challenges due to increased competition and shifting economic landscapes.\",\n",
       "    'Sure, here’s a light-hearted joke about international trade and job creation:\\n\\nWhy did the economist bring a ladder to work?\\n\\nBecause they heard the job market was going global and wanted to reach new heights! 😄']}],\n",
       " 4.979608821868896)"
      ]
     },
     "execution_count": 11,
     "metadata": {},
     "output_type": "execute_result"
    }
   ],
   "source": [
    "responses"
   ]
  },
  {
   "cell_type": "markdown",
   "metadata": {},
   "source": [
    "## Running the experiment via the command line\n",
    "\n",
    "We can also run the experiment via the command line. The command is as follows (assuming that your working directory is the current directory of this notebook, i.e. `examples/openai`):\n",
    "```bash\n",
    "prompto_run_experiment --file data/input/openai-example.jsonl --max_queries 30\n",
    "```\n"
   ]
  }
 ],
 "metadata": {
  "kernelspec": {
   "display_name": ".venv",
   "language": "python",
   "name": "python3"
  },
  "language_info": {
   "codemirror_mode": {
    "name": "ipython",
    "version": 3
   },
   "file_extension": ".py",
   "mimetype": "text/x-python",
   "name": "python",
   "nbconvert_exporter": "python",
   "pygments_lexer": "ipython3",
   "version": "3.11.9"
  }
 },
 "nbformat": 4,
 "nbformat_minor": 2
}
