{
 "cells": [
  {
   "cell_type": "markdown",
   "metadata": {},
   "source": [
    "# Using `prompto` with OpenAI"
   ]
  },
  {
   "cell_type": "code",
   "execution_count": 1,
   "metadata": {},
   "outputs": [],
   "source": [
    "from prompto.settings import Settings\n",
    "from prompto.experiment import Experiment\n",
    "from dotenv import load_dotenv\n",
    "import warnings\n",
    "import os"
   ]
  },
  {
   "cell_type": "markdown",
   "metadata": {},
   "source": [
    "When using `prompto` to query models from the OpenAI API, lines in our experiment `.jsonl` files must have `\"api\": \"openai\"` in the prompt dict. \n",
    "\n",
    "## Environment variables\n",
    "\n",
    "For the OpenAI API, there are two environment variables:\n",
    "- `OPENAI_API_KEY`: the API key for the OpenAI API\n",
    "- `OPENAI_MODEL_NAME`: the default model name for the OpenAI API (optional)\n",
    "\n",
    "As mentioned in the [model docs](../../docs/models.md#model-specific-environment-variables), there are also model-specific environment variables too which can be utilised. In particular, if you specify a `model_name` key in a prompt dict, one could also specify a `OPENAI_API_KEY_model_name` environment variable to indicate the API key used for that particular model (where \"model_name\" is replaced to whatever the corresponding value of the `model_name` key is). We will see a concrete example of this later.\n",
    "\n",
    "Note that `OPENAI_MODEL_NAME` is optional since you can simply specify `model_name` to each prompt dict that has `\"api\": \"openai\"`.\n",
    "\n",
    "To set environment variables, one can simply have these in a `.env` file which specifies these environment variables as key-value pairs:\n",
    "```\n",
    "OPENAI_API_KEY = <YOUR-OPENAI-KEY>\n",
    "OPENAI_MODEL_NAME = <DEFAULT-OPENAI-MODEL>\n",
    "```\n",
    "\n",
    "If you make this file, you can run the following which should return `True` if it's found one, or `False` otherwise:"
   ]
  },
  {
   "cell_type": "code",
   "execution_count": 2,
   "metadata": {},
   "outputs": [
    {
     "data": {
      "text/plain": [
       "True"
      ]
     },
     "execution_count": 2,
     "metadata": {},
     "output_type": "execute_result"
    }
   ],
   "source": [
    "load_dotenv(dotenv_path=\".env\")"
   ]
  },
  {
   "cell_type": "markdown",
   "metadata": {},
   "source": [
    "Now, we obtain those values. We raise an error if the `OPENAI_API_KEY` environment variable hasn't been set:"
   ]
  },
  {
   "cell_type": "code",
   "execution_count": 3,
   "metadata": {},
   "outputs": [],
   "source": [
    "OPENAI_API_KEY = os.environ.get(\"OPENAI_API_KEY\")\n",
    "if OPENAI_API_KEY is None:\n",
    "    raise ValueError(\"OPENAI_API_KEY is not set\")"
   ]
  },
  {
   "cell_type": "markdown",
   "metadata": {},
   "source": [
    "We will only raise a warning if `OPENAI_MODEL_NAME` hasn't been set:"
   ]
  },
  {
   "cell_type": "code",
   "execution_count": 4,
   "metadata": {},
   "outputs": [
    {
     "name": "stdout",
     "output_type": "stream",
     "text": [
      "Default OpenAI model: gpt-4o\n"
     ]
    }
   ],
   "source": [
    "OPENAI_MODEL_NAME = os.environ.get(\"OPENAI_MODEL_NAME\")\n",
    "if OPENAI_MODEL_NAME is None:\n",
    "    warnings.warn(\"OPENAI_MODEL_NAME is not set\")\n",
    "else:\n",
    "    print(f\"Default OpenAI model: {OPENAI_MODEL_NAME}\")"
   ]
  },
  {
   "cell_type": "markdown",
   "metadata": {},
   "source": [
    "If you get any errors or warnings in the above two cells, try to fix your `.env` file like the example we have above to get these variables set."
   ]
  },
  {
   "cell_type": "markdown",
   "metadata": {},
   "source": [
    "## Types of prompts\n",
    "\n",
    "With the OpenAI API, the prompt (given via the `\"prompt\"` key in the prompt dict) can take several forms:\n",
    "- a string: a single prompt to obtain a response for\n",
    "- a list of strings: a sequence of prompts to send to the model\n",
    "    - this is useful in the use case of simulating a conversation with the model by defining the user prompts sequentially\n",
    "- a list of dictionaries with keys \"role\" and \"content\", where \"role\" is one of \"user\", \"assistant\", or \"system\" and \"content\" is the message\n",
    "    - this is useful in the case of passing in some conversation history or to pass in a system prompt to the model\n",
    "\n",
    "We have created an input file in [data/input/openai-example.jsonl](./data/input/openai-example.jsonl) with an example of each of these cases as an illustration."
   ]
  },
  {
   "cell_type": "code",
   "execution_count": 5,
   "metadata": {},
   "outputs": [],
   "source": [
    "settings = Settings(data_folder=\"./data\", max_queries=30)\n",
    "experiment = Experiment(file_name=\"openai-example.jsonl\", settings=settings)"
   ]
  },
  {
   "cell_type": "markdown",
   "metadata": {},
   "source": [
    "We set `max_queries` to 30 so we send 30 queries a minute (every 2 seconds)."
   ]
  },
  {
   "cell_type": "code",
   "execution_count": 6,
   "metadata": {},
   "outputs": [
    {
     "name": "stdout",
     "output_type": "stream",
     "text": [
      "Settings: data_folder=./data, max_queries=30, max_attempts=3, parallel=False\n",
      "Subfolders: input_folder=./data/input, output_folder=./data/output, media_folder=./data/media\n"
     ]
    }
   ],
   "source": [
    "print(settings)"
   ]
  },
  {
   "cell_type": "code",
   "execution_count": 7,
   "metadata": {},
   "outputs": [
    {
     "data": {
      "text/plain": [
       "5"
      ]
     },
     "execution_count": 7,
     "metadata": {},
     "output_type": "execute_result"
    }
   ],
   "source": [
    "len(experiment.experiment_prompts)"
   ]
  },
  {
   "cell_type": "markdown",
   "metadata": {},
   "source": [
    "We can see the prompts that we have in the `experiment_prompts` attribute:"
   ]
  },
  {
   "cell_type": "code",
   "execution_count": 8,
   "metadata": {},
   "outputs": [
    {
     "data": {
      "text/plain": [
       "[{'id': 0,\n",
       "  'api': 'openai',\n",
       "  'prompt': 'How does technology impact us?',\n",
       "  'parameters': {'n': 1, 'temperature': 1, 'max_tokens': 1000}},\n",
       " {'id': 1,\n",
       "  'api': 'openai',\n",
       "  'model_name': 'gpt-3.5-turbo',\n",
       "  'prompt': 'How does technology impact us?',\n",
       "  'parameters': {'n': 1, 'temperature': 1, 'max_tokens': 1000}},\n",
       " {'id': 2,\n",
       "  'api': 'openai',\n",
       "  'prompt': ['How does international trade create jobs?',\n",
       "   'I want a joke about that'],\n",
       "  'parameters': {'n': 1, 'temperature': 1, 'max_tokens': 1000}},\n",
       " {'id': 3,\n",
       "  'api': 'openai',\n",
       "  'prompt': [{'role': 'system',\n",
       "    'content': 'You are a helpful assistant designed to answer questions briefly.'},\n",
       "   {'role': 'user',\n",
       "    'content': 'What efforts are being made to keep the hakka language alive?'}],\n",
       "  'parameters': {'n': 1, 'temperature': 1, 'max_tokens': 1000}},\n",
       " {'id': 3,\n",
       "  'api': 'openai',\n",
       "  'prompt': [{'role': 'system',\n",
       "    'content': 'You are a helpful assistant designed to answer questions briefly.'},\n",
       "   {'role': 'user', 'content': \"Hello, I'm Bob and I'm 6 years old\"},\n",
       "   {'role': 'assistant', 'content': 'Hi Bob, how may I assist you?'},\n",
       "   {'role': 'user', 'content': 'How old will I be next year?'}],\n",
       "  'parameters': {'n': 1, 'temperature': 1, 'max_tokens': 1000}}]"
      ]
     },
     "execution_count": 8,
     "metadata": {},
     "output_type": "execute_result"
    }
   ],
   "source": [
    "experiment.experiment_prompts"
   ]
  },
  {
   "cell_type": "markdown",
   "metadata": {},
   "source": [
    "- In the first prompt (`\"id\": 0`), we have a `\"prompt\"` key which is a string and we do not specify a `\"model_name\"` key, hence we will use the model specified by the `OPENAI_MODEL_NAME` environment variable.\n",
    "- In the second prompt (`\"id\": 1`), we have a `\"prompt\"` key is also a string but we specify a `\"model_name\"` key to be \"gpt-3.5-turbo\" which will override the default model specified by the `OPENAI_MODEL_NAME` environment variable. We also will first look to see if there is a `OPENAI_API_KEY_gpt_3_5_turbo` environment variable set since we look for model-specific environment variables whenever a `model_name` key is specified. Here, we don't do that, so we will use the `OPENAI_API_KEY` environment variable.\n",
    "- In the third prompt (`\"id\": 2`), we have a `\"prompt\"` key which is a list of strings. Like the first prompt, we also do not specify a `\"model_name\"` key, so we will use the model specified by the `OPENAI_MODEL_NAME` environment variable.\n",
    "- In the fourth prompt (`\"id\": 3`), we have a `\"prompt\"` key which is a list of dictionaries. These dictionaries have a \"role\" and \"content\" key. This acts as passing in a system prompt. Here, we just have a system prompt before a user prompt. No `\"model_name\"` key is specified.\n",
    "- In the fifth prompt (`\"id\": 4`), we have a `\"prompt\"` key which is a list of dictionaries. These dictionaries have a \"role\" and \"content\" key. Here, we have a system prompt and a series of user/assistant interactions before finally having a user prompt. This acts as passing in a system prompt and conversation history. No `\"model_name\"` key is specified."
   ]
  },
  {
   "cell_type": "code",
   "execution_count": 9,
   "metadata": {},
   "outputs": [
    {
     "data": {
      "text/plain": [
       "[{'role': 'system',\n",
       "  'content': 'You are a helpful assistant designed to answer questions briefly.'},\n",
       " {'role': 'user',\n",
       "  'content': 'What efforts are being made to keep the hakka language alive?'}]"
      ]
     },
     "execution_count": 9,
     "metadata": {},
     "output_type": "execute_result"
    }
   ],
   "source": [
    "experiment.experiment_prompts[3][\"prompt\"]"
   ]
  },
  {
   "cell_type": "markdown",
   "metadata": {},
   "source": [
    "## Running the experiment\n",
    "\n",
    "We now can run the experiment using the async method `process` which will process the prompts in the input file asynchronously. Note that a new folder named `timestamp-openai-example` (where \"timestamp\" is replaced with the actual date and time of processing) will be created in the output directory and we will move the input file to the output directory. As the responses come in, they will be written to the output file and there are logs that will be printed to the console as well as being written to a log file in the output directory."
   ]
  },
  {
   "cell_type": "code",
   "execution_count": 10,
   "metadata": {},
   "outputs": [
    {
     "name": "stderr",
     "output_type": "stream",
     "text": [
      "Sending 5 queries  (attempt 1/3): 100%|██████████| 5/5 [00:10<00:00,  2.00s/query]\n",
      "Waiting for responses  (attempt 1/3): 100%|██████████| 5/5 [00:08<00:00,  1.64s/query]\n"
     ]
    }
   ],
   "source": [
    "responses = await experiment.process()"
   ]
  },
  {
   "cell_type": "markdown",
   "metadata": {},
   "source": [
    "We can see that the responses are written to the output file, and we can also see them as the returned object. From running the experiment, we obtain prompt dicts where there is now a `\"response\"` key which contains the response(s) from the model.\n",
    "\n",
    "For the case where the prompt is a list of strings, we see that the response is a list of strings where each string is the response to the corresponding prompt."
   ]
  },
  {
   "cell_type": "code",
   "execution_count": 11,
   "metadata": {},
   "outputs": [
    {
     "data": {
      "text/plain": [
       "([{'id': 0,\n",
       "   'api': 'openai',\n",
       "   'prompt': 'How does technology impact us?',\n",
       "   'parameters': {'n': 1, 'temperature': 1, 'max_tokens': 1000},\n",
       "   'response': 'Technology has a profound impact on virtually every aspect of modern life, influencing how we communicate, work, learn, and entertain ourselves. Below are some key areas where technology has significant effects:\\n\\n1. **Communication:**\\n   - **Instant Connectivity:** Technologies like smartphones, social media, and messaging apps allow people to connect instantly, regardless of geographical barriers.\\n   - **Global Reach:** Video conferencing tools (e.g., Zoom, Microsoft Teams) enable real-time meetings across the world, making both personal and professional interactions more accessible.\\n\\n2. **Work:**\\n   - **Remote Work:** Advancements in technology enable telecommuting, allowing people to work from anywhere with an internet connection.\\n   - **Automation:** Automation tools and artificial intelligence (AI) are increasing productivity but also displacing certain types of jobs, necessitating a shift in skills.\\n\\n3. **Education:**\\n   - **E-learning:** Online education platforms offer courses from elementary school to higher education, making learning more accessible and flexible.\\n   - **Virtual Classrooms:** Technologies like virtual reality (VR) and augmented reality (AR) provide immersive learning experiences.\\n\\n4. **Healthcare:**\\n   - **Telemedicine:** Remote consultations and telehealth services make healthcare more accessible, especially for those in rural or underserved areas.\\n   - **Advanced Diagnostics:** AI, machine learning, and sophisticated imaging technologies enable early detection and personalized treatment plans.\\n\\n5. **Economy:**\\n   - **E-commerce:** Online shopping platforms have transformed retail, providing convenience and expanding market reach.\\n   - **Digital Payments:** Technologies like mobile banking and cryptocurrencies are reshaping the financial landscape.\\n\\n6. **Lifestyle and Entertainment:**\\n   - **Streaming Services:** On-demand content platforms (e.g., Netflix, Spotify) offer vast libraries of entertainment options.\\n   - **Smart Homes:** IoT (Internet of Things) devices like smart thermostats, security systems, and voice-activated assistants enhance home convenience and security.\\n\\n7. **Social Impact:**\\n   - **Connectivity vs. Isolation:** While technology connects us globally, it can also lead to social isolation and mental health issues due to over-reliance on digital interactions.\\n   - **Misinformation:** The rapid spread of information online can lead to the dissemination of false or misleading information, affecting public opinion and behavior.\\n\\n8. **Environment:**\\n   - **Green Technology:** Innovations in renewable energy and sustainable practices are helping to combat climate change.\\n   - **E-waste:** The rapid pace of technological advancement also leads to increased electronic waste, posing environmental challenges.\\n\\n9. **Security and Privacy:**\\n   - **Cybersecurity:** While technology provides enhanced security measures, it also introduces new risks like cyberattacks and data breaches.\\n   - **Privacy Concerns:** The collection and use of personal data by companies and governments have raised significant privacy issues.\\n\\n10. **Transportation:**\\n    - **Smart Vehicles:** Advances in autonomous driving, electric vehicles, and ride-sharing apps are transforming how we travel.\\n    - **Traffic Management:** Intelligent transportation systems are improving traffic flow and reducing congestion.\\n\\nIn summary, technology significantly enhances efficiency, accessibility, and convenience across various sectors, but it also brings challenges that require careful management and adaptation.'},\n",
       "  {'id': 1,\n",
       "   'api': 'openai',\n",
       "   'model_name': 'gpt-3.5-turbo',\n",
       "   'prompt': 'How does technology impact us?',\n",
       "   'parameters': {'n': 1, 'temperature': 1, 'max_tokens': 1000},\n",
       "   'response': 'Technology impacts us in numerous ways, both positive and negative. Some of the ways technology influences us include:\\n\\n1. Communication: Technology has revolutionized how we communicate with one another, making it faster and more convenient. Social media platforms, messaging apps, and video calls allow us to connect with people across the globe instantly.\\n\\n2. Education: Technology has transformed the way we learn and access information. Online learning platforms, educational apps, and digital textbooks have made education more accessible and interactive.\\n\\n3. Work: Technology has changed the way we work, allowing for remote work, flexible schedules, and increased efficiency. Automation and artificial intelligence have also taken over certain tasks, leading to changes in job roles and skills required.\\n\\n4. Healthcare: Technology has significantly improved healthcare by enabling more accurate diagnoses, innovative treatments, and telemedicine services. Medical advances and wearable devices have also helped individuals monitor their health more effectively.\\n\\n5. Entertainment: Technology has revolutionized the entertainment industry, offering a wide range of options for streaming movies, music, and games. Virtual reality, augmented reality, and other technologies have also enhanced the entertainment experience.\\n\\n6. Social interactions: Technology has changed how we interact with others, both positively and negatively. While it has made it easier to stay connected with friends and family, it has also led to concerns about social isolation and cyberbullying.\\n\\n7. Privacy and security: Technology has raised important concerns about privacy and security, as our personal information is increasingly stored and shared online. Cybersecurity threats, data breaches, and identity theft have become significant issues in the digital age.\\n\\nOverall, technology has had a profound impact on our daily lives, shaping how we live, work, and communicate. It is essential to consider both the benefits and challenges that technology brings and strive to use it responsibly and ethically.'},\n",
       "  {'id': 3,\n",
       "   'api': 'openai',\n",
       "   'prompt': [{'role': 'system',\n",
       "     'content': 'You are a helpful assistant designed to answer questions briefly.'},\n",
       "    {'role': 'user', 'content': \"Hello, I'm Bob and I'm 6 years old\"},\n",
       "    {'role': 'assistant', 'content': 'Hi Bob, how may I assist you?'},\n",
       "    {'role': 'user', 'content': 'How old will I be next year?'}],\n",
       "   'parameters': {'n': 1, 'temperature': 1, 'max_tokens': 1000},\n",
       "   'response': 'Next year, you will be 7 years old!'},\n",
       "  {'id': 3,\n",
       "   'api': 'openai',\n",
       "   'prompt': [{'role': 'system',\n",
       "     'content': 'You are a helpful assistant designed to answer questions briefly.'},\n",
       "    {'role': 'user',\n",
       "     'content': 'What efforts are being made to keep the hakka language alive?'}],\n",
       "   'parameters': {'n': 1, 'temperature': 1, 'max_tokens': 1000},\n",
       "   'response': 'Efforts to keep the Hakka language alive include:\\n\\n1. **Educational Programs**: Schools and universities offer courses and programs to teach the Hakka language.\\n2. **Media and Publications**: Creation of Hakka TV channels, radio programs, newspapers, and books.\\n3. **Community Organizations**: Cultural and community groups host events, workshops, and festivals celebrating Hakka heritage.\\n4. **Digital Platforms**: Development of apps, online courses, and social media content in Hakka.\\n5. **Government Support**: Policies and funding aimed at preserving minority languages.\\n\\nThese efforts aim to promote the use and transmission of Hakka to younger generations.'},\n",
       "  {'id': 2,\n",
       "   'api': 'openai',\n",
       "   'prompt': ['How does international trade create jobs?',\n",
       "    'I want a joke about that'],\n",
       "   'parameters': {'n': 1, 'temperature': 1, 'max_tokens': 1000},\n",
       "   'response': [\"International trade can create jobs through several mechanisms:\\n\\n1. **Increased Demand for Exports**: When a country exports goods and services, the demand for these products increases. To meet this demand, companies often need to hire more workers, thereby creating jobs. For example, if a country becomes a major exporter of electronic goods, factories and production facilities will need more labor to manufacture these products.\\n\\n2. **Economies of Scale**: By accessing larger international markets, companies can achieve economies of scale, reducing the cost per unit of production. This improved efficiency can lead to business growth, resulting in more job creation as companies expand their operations.\\n\\n3. **Access to Cheaper Inputs**: International trade allows companies to import raw materials and intermediate goods at lower costs. Lower production costs can make companies more competitive and potentially increase their production and sales volume, which may require more employees.\\n\\n4. **Increased Foreign Direct Investment (FDI)**: Open trade policies and international trade agreements attract foreign direct investment. Multinational companies set up operations, factories, and offices in other countries. This investment often leads to job creation in the local economy.\\n\\n5. **Diversification of Industries**: Trade exposes countries to new industries and technologies. This diversification can lead to the creation of new sectors within an economy, each with its own set of employment opportunities. For example, a country might develop a new pharmaceutical sector by importing necessary raw materials and exporting finished products.\\n\\n6. **Service Sector Growth**: Trade is not limited to goods; it also includes services. The expansion of international trade in services, such as finance, tourism, and consulting, generates employment in these sectors. For instance, a growing tourism sector due to international visitors will create jobs in hotels, restaurants, and other related businesses.\\n\\n7. **Increased Competition and Innovation**: International trade increases competition, which can drive companies to innovate and improve their products and services. This often leads to the creation of new roles and specialized jobs (e.g., in research and development).\\n\\n8. **Employment in Trade Services**: The logistics, transportation, and distribution sectors grow to manage the increased flow of goods and services across borders. Jobs are created in shipping, freight handling, customs brokerage, and related fields.\\n\\nWhile international trade can create jobs, it's important to note that it can also lead to job displacement in industries that are not competitive. Overall job creation is often determined by the ability of the economy to adapt and transition workers into new roles and industries.\",\n",
       "    \"Sure, here's a light-hearted joke about international trade and jobs:\\n\\nWhy did the economist get hired as a magician?\\n\\nBecause he could make whole industries disappear in one country and reappear in another! \\n\\n😄\"]}],\n",
       " 3.6504037857055662)"
      ]
     },
     "execution_count": 11,
     "metadata": {},
     "output_type": "execute_result"
    }
   ],
   "source": [
    "responses"
   ]
  },
  {
   "cell_type": "markdown",
   "metadata": {},
   "source": [
    "## Running the experiment via the command line\n",
    "\n",
    "We can also run the experiment via the command line. The command is as follows (assuming that your working directory is the current directory of this notebook, i.e. `examples/openai`):\n",
    "```bash\n",
    "prompto_run_experiment --file data/input/openai-example.jsonl --max_queries 30\n",
    "```\n"
   ]
  }
 ],
 "metadata": {
  "kernelspec": {
   "display_name": ".venv",
   "language": "python",
   "name": "python3"
  },
  "language_info": {
   "codemirror_mode": {
    "name": "ipython",
    "version": 3
   },
   "file_extension": ".py",
   "mimetype": "text/x-python",
   "name": "python",
   "nbconvert_exporter": "python",
   "pygments_lexer": "ipython3",
   "version": "3.11.9"
  }
 },
 "nbformat": 4,
 "nbformat_minor": 2
}
