{
 "cells": [
  {
   "cell_type": "markdown",
   "metadata": {},
   "source": [
    "# Using `prompto` with Vertex AI"
   ]
  },
  {
   "cell_type": "code",
   "execution_count": 1,
   "metadata": {},
   "outputs": [],
   "source": [
    "from prompto.settings import Settings\n",
    "from prompto.experiment import Experiment\n",
    "from dotenv import load_dotenv\n",
    "import warnings\n",
    "import os"
   ]
  },
  {
   "cell_type": "markdown",
   "metadata": {},
   "source": [
    "When using `prompto` to query models from the Vertex AI API, lines in our experiment `.jsonl` files must have `\"api\": \"vertexai\"` in the prompt dict. \n",
    "\n",
    "## Environment variables\n",
    "\n",
    "For the [Vertex AI API](../../docs/models.md#vertex-ai), there are two environment variables that could be set:\n",
    "- `VERTEXAI_PROJECT_ID`: the project-id for the Vertex AI API\n",
    "- `VERTEXAI_LOCATION_ID`: the location-id for the Vertex AI API\n",
    "\n",
    "As mentioned in the [model docs](../../docs/models.md#model-specific-environment-variables), there are also model-specific environment variables too which can be utilised. In particular, when you specify a `model_name` key in a prompt dict, one could also specify a `VERTEXAI_PROJECT_ID_model_name` or `VERTEXAI_LOCATION_ID_model_name` environment variables to indicate the project-id and location-id for that particular model (where \"model_name\" is replaced to whatever the corresponding value of the `model_name` key is).\n",
    "\n",
    "To set environment variables, one can simply have these in a `.env` file which specifies these environment variables as key-value pairs:\n",
    "```\n",
    "VERTEXAI_PROJECT_ID=<YOUR-VERTEXAI-PROJECT-ID>\n",
    "VERTEXAI_LOCATION_ID=<YOUR-VERTEXAI-LOCATION-ID>\n",
    "```\n",
    "\n",
    "If you make this file, you can run the following which should return `True` if it's found one, or `False` otherwise:"
   ]
  },
  {
   "cell_type": "code",
   "execution_count": 2,
   "metadata": {},
   "outputs": [
    {
     "data": {
      "text/plain": [
       "True"
      ]
     },
     "execution_count": 2,
     "metadata": {},
     "output_type": "execute_result"
    }
   ],
   "source": [
    "load_dotenv(dotenv_path=\".env\")"
   ]
  },
  {
   "cell_type": "markdown",
   "metadata": {},
   "source": [
    "Now, we obtain those values. We raise an error if the `VERTEXAI_PROJECT_ID` environment variable hasn't been set:"
   ]
  },
  {
   "cell_type": "code",
   "execution_count": 3,
   "metadata": {},
   "outputs": [],
   "source": [
    "VERTEXAI_PROJECT_ID = os.environ.get(\"VERTEXAI_PROJECT_ID\")\n",
    "if VERTEXAI_PROJECT_ID is None:\n",
    "    warnings.warn(\"VERTEXAI_PROJECT_ID is not set\")"
   ]
  },
  {
   "cell_type": "code",
   "execution_count": 4,
   "metadata": {},
   "outputs": [],
   "source": [
    "VERTEXAI_LOCATION_ID = os.environ.get(\"VERTEXAI_LOCATION_ID\")\n",
    "if VERTEXAI_LOCATION_ID is None:\n",
    "    warnings.warn(\"VERTEXAI_LOCATION_ID is not set\")"
   ]
  },
  {
   "cell_type": "markdown",
   "metadata": {},
   "source": [
    "Note that when using Vertex AI, you can actually (say something about using the CLI to get IAM permissions rather than using these environment variables). They technically could be ignored and so they are actually optional)"
   ]
  },
  {
   "cell_type": "markdown",
   "metadata": {},
   "source": [
    "If you get any errors or warnings in the above two cells, try to fix your `.env` file like the example we have above to get these variables set."
   ]
  },
  {
   "cell_type": "markdown",
   "metadata": {},
   "source": [
    "## Types of prompts\n",
    "\n",
    "With the Vertex AI API, the prompt (given via the `\"prompt\"` key in the prompt dict) can take several forms:\n",
    "- a string: a single prompt to obtain a response for\n",
    "- a list of strings: a sequence of prompts to send to the model\n",
    "    - this is useful in the use case of simulating a conversation with the model by defining the user prompts sequentially\n",
    "- a list of dictionaries with keys \"role\" and \"parts\", where \"role\" is one of \"user\", \"model\", or \"system\" and \"parts\" is the message\n",
    "    - this is useful in the case of passing in some conversation history or to pass in a system prompt to the model\n",
    "    - note that only the prompt in the list can be a system prompt, and the rest must be user or model prompts\n",
    "\n",
    "We have created an input file in [data/input/vertexai-example.jsonl](./data/input/vertexai-example.jsonl) with an example of each of these cases as an illustration."
   ]
  },
  {
   "cell_type": "code",
   "execution_count": 5,
   "metadata": {},
   "outputs": [],
   "source": [
    "settings = Settings(data_folder=\"./data\", max_queries=30)\n",
    "experiment = Experiment(file_name=\"vertexai-example.jsonl\", settings=settings)"
   ]
  },
  {
   "cell_type": "markdown",
   "metadata": {},
   "source": [
    "We set `max_queries` to 30 so we send 30 queries a minute (every 2 seconds)."
   ]
  },
  {
   "cell_type": "code",
   "execution_count": 6,
   "metadata": {},
   "outputs": [
    {
     "name": "stdout",
     "output_type": "stream",
     "text": [
      "Settings: data_folder=./data, max_queries=30, max_attempts=3, parallel=False\n",
      "Subfolders: input_folder=./data/input, output_folder=./data/output, media_folder=./data/media\n"
     ]
    }
   ],
   "source": [
    "print(settings)"
   ]
  },
  {
   "cell_type": "code",
   "execution_count": 7,
   "metadata": {},
   "outputs": [
    {
     "data": {
      "text/plain": [
       "6"
      ]
     },
     "execution_count": 7,
     "metadata": {},
     "output_type": "execute_result"
    }
   ],
   "source": [
    "len(experiment.experiment_prompts)"
   ]
  },
  {
   "cell_type": "markdown",
   "metadata": {},
   "source": [
    "We can see the prompts that we have in the `experiment_prompts` attribute:"
   ]
  },
  {
   "cell_type": "code",
   "execution_count": 8,
   "metadata": {},
   "outputs": [
    {
     "data": {
      "text/plain": [
       "[{'id': 0,\n",
       "  'api': 'vertexai',\n",
       "  'model_name': 'gemini-1.5-flash',\n",
       "  'prompt': 'How does technology impact us?',\n",
       "  'parameters': {'candidate_count': 1,\n",
       "   'temperature': 1,\n",
       "   'max_output_tokens': 1000}},\n",
       " {'id': 1,\n",
       "  'api': 'vertexai',\n",
       "  'model_name': 'gemini-1.0-pro',\n",
       "  'prompt': 'How does technology impact us?',\n",
       "  'parameters': {'candidate_count': 1,\n",
       "   'temperature': 1,\n",
       "   'max_output_tokens': 1000}},\n",
       " {'id': 2,\n",
       "  'api': 'vertexai',\n",
       "  'model_name': 'gemini-1.5-flash',\n",
       "  'prompt': ['How does international trade create jobs?',\n",
       "   'I want a joke about that'],\n",
       "  'parameters': {'candidate_count': 1,\n",
       "   'temperature': 1,\n",
       "   'max_output_tokens': 1000}},\n",
       " {'id': 3,\n",
       "  'api': 'vertexai',\n",
       "  'model_name': 'gemini-1.5-flash',\n",
       "  'prompt': [{'role': 'system',\n",
       "    'parts': 'You are a helpful assistant designed to answer questions briefly.'},\n",
       "   {'role': 'user',\n",
       "    'parts': 'What efforts are being made to keep the hakka language alive?'}],\n",
       "  'parameters': {'candidate_count': 1,\n",
       "   'temperature': 1,\n",
       "   'max_output_tokens': 1000}},\n",
       " {'id': 4,\n",
       "  'api': 'vertexai',\n",
       "  'model_name': 'gemini-1.5-flash',\n",
       "  'prompt': [{'role': 'user',\n",
       "    'parts': 'What efforts are being made to keep the hakka language alive?'},\n",
       "   {'role': 'system',\n",
       "    'parts': 'You are a helpful assistant designed to answer questions briefly.'}],\n",
       "  'parameters': {'candidate_count': 1,\n",
       "   'temperature': 1,\n",
       "   'max_output_tokens': 1000}},\n",
       " {'id': 5,\n",
       "  'api': 'vertexai',\n",
       "  'model_name': 'gemini-1.5-flash',\n",
       "  'prompt': [{'role': 'system',\n",
       "    'parts': 'You are a helpful assistant designed to answer questions briefly.'},\n",
       "   {'role': 'user', 'parts': \"Hello, I'm Bob and I'm 6 years old\"},\n",
       "   {'role': 'model', 'parts': 'Hi Bob, how may I assist you?'},\n",
       "   {'role': 'user', 'parts': 'How old will I be next year?'}],\n",
       "  'parameters': {'candidate_count': 1,\n",
       "   'temperature': 1,\n",
       "   'max_output_tokens': 1000}}]"
      ]
     },
     "execution_count": 8,
     "metadata": {},
     "output_type": "execute_result"
    }
   ],
   "source": [
    "experiment.experiment_prompts"
   ]
  },
  {
   "cell_type": "markdown",
   "metadata": {},
   "source": [
    "- In the first prompt (`\"id\": 0`), we have a `\"prompt\"` key which is a string and specify a `\"model_name\"` key to be \"gemini-1.5-flash\"\n",
    "- In the second prompt (`\"id\": 1`), we have a `\"prompt\"` key is also a string but we specify a `\"model_name\"` key to be \"gemini-1.0-pro\".\n",
    "- In the third prompt (`\"id\": 2`), we have a `\"prompt\"` key which is a list of strings.\n",
    "- In the fourth prompt (`\"id\": 3`), we have a `\"prompt\"` key which is a list of dictionaries. These dictionaries have a \"role\" and \"parts\" key. This acts as passing in a system prompt. Here, we just have a system prompt before a user prompt.\n",
    "- In the fifth prompt (`\"id\": 4`), we have a `\"prompt\"` key which is a list of dictionaries. These dictionaries have a \"role\" and \"parts\" key but here, we have a user prompt and then a system prompt. As mentioned above, only the first prompt in the list can be a system prompt. We should get an error for this particular prompt.\n",
    "- In the sixth prompt (`\"id\": 5`), we have a `\"prompt\"` key which is a list of dictionaries. These dictionaries have a \"role\" and \"parts\" key. Here, we have a system prompt and a series of user/model interactions before finally having a user prompt. This acts as passing in a system prompt and conversation history.\n",
    "\n",
    "Note that for each of these prompt dicts, we have `\"model_name\": \"gemini-1.5-flash\"`, besides `\"id\": 1` where we have `\"model_name\": \"gemini-1.0-pro\"`."
   ]
  },
  {
   "cell_type": "markdown",
   "metadata": {},
   "source": [
    "## Safety filters with Vertex AI Gemini API\n",
    "\n",
    "With the Gemini API, it is possible to configure the safety filters (see the [safety settings docs](https://cloud.google.com/vertex-ai/generative-ai/docs/multimodal/configure-safety-attributes)). We can set the `\"safety_filter\"` key in the prompt dict where the options are:\n",
    "- `\"none\"`: corresponds to \"Block none\" or `BLOCK_NONE`\n",
    "- `\"few\"`: corresponds to \"Block few\" or `BLOCK_ONLY_HIGH`\n",
    "- `\"default\"` or `\"some\"`: corresponds to \"Block some\" or `BLOCK_HIGH_AND_MEDIUM`\n",
    "- `\"most\"`: corresponds to \"Block most\" or `BLOCK_LOW_AND_ABOVE`\n",
    "\n",
    "In the example input file, we have set the `\"safety_filter\"` key to each of these options."
   ]
  },
  {
   "cell_type": "markdown",
   "metadata": {},
   "source": [
    "## Running the experiment\n",
    "\n",
    "We now can run the experiment using the async method `process` which will process the prompts in the input file asynchronously. Note that a new folder named `timestamp-vertexai-example` (where \"timestamp\" is replaced with the actual date and time of processing) will be created in the output directory and we will move the input file to the output directory. As the responses come in, they will be written to the output file and there are logs that will be printed to the console as well as being written to a log file in the output directory."
   ]
  },
  {
   "cell_type": "code",
   "execution_count": 9,
   "metadata": {},
   "outputs": [
    {
     "name": "stderr",
     "output_type": "stream",
     "text": [
      "Sending 6 queries  (attempt 1/3):  17%|█▋        | 1/6 [00:02<00:10,  2.00s/query]/opt/anaconda3/envs/prompto/lib/python3.11/site-packages/google/auth/_default.py:76: UserWarning: Your application has authenticated using end user credentials from Google Cloud SDK without a quota project. You might receive a \"quota exceeded\" or \"API not enabled\" error. See the following page for troubleshooting: https://cloud.google.com/docs/authentication/adc-troubleshooting/user-creds. \n",
      "  warnings.warn(_CLOUD_SDK_CREDENTIALS_WARNING)\n",
      "Sending 6 queries  (attempt 1/3): 100%|██████████| 6/6 [00:12<00:00,  2.00s/query]\n",
      "Waiting for responses  (attempt 1/3): 100%|██████████| 6/6 [00:00<00:00, 12.11query/s]\n"
     ]
    }
   ],
   "source": [
    "responses, avg_query_processing_time = await experiment.process()"
   ]
  },
  {
   "cell_type": "markdown",
   "metadata": {},
   "source": [
    "We can see that the responses are written to the output file, and we can also see them as the returned object. From running the experiment, we obtain prompt dicts where there is now a `\"response\"` key which contains the response(s) from the model.\n",
    "\n",
    "For the case where the prompt is a list of strings, we see that the response is a list of strings where each string is the response to the corresponding prompt."
   ]
  },
  {
   "cell_type": "code",
   "execution_count": 10,
   "metadata": {},
   "outputs": [
    {
     "data": {
      "text/plain": [
       "[{'id': 0,\n",
       "  'api': 'vertexai',\n",
       "  'model_name': 'gemini-1.5-flash',\n",
       "  'prompt': 'How does technology impact us?',\n",
       "  'parameters': {'candidate_count': 1,\n",
       "   'temperature': 1,\n",
       "   'max_output_tokens': 1000},\n",
       "  'response': \"Technology impacts us in **profound and multifaceted ways**, shaping our lives in both positive and negative ways. Here's a breakdown:\\n\\n**Positive Impacts:**\\n\\n* **Increased Efficiency and Productivity:** Technology automates tasks, allowing us to do more in less time. This applies to everything from simple things like online shopping to complex tasks like medical diagnoses.\\n* **Enhanced Communication and Connectivity:** We can connect with people around the world instantly, fostering collaboration, learning, and global understanding. \\n* **Access to Information:** The internet provides vast amounts of information, enabling education, research, and personal growth.\\n* **Improved Healthcare:** Technology allows for early diagnosis, personalized treatment, and advanced medical procedures, improving overall health and longevity.\\n* **Economic Growth and Innovation:** New technologies create jobs, drive innovation, and lead to economic progress.\\n* **Entertainment and Recreation:** Technology offers various forms of entertainment, from streaming services to video games, enriching our leisure time.\\n\\n**Negative Impacts:**\\n\\n* **Job Displacement:** Automation and AI can replace human jobs, leading to unemployment and economic inequality.\\n* **Privacy Concerns:** Data collection and surveillance raise concerns about privacy and security.\\n* **Social Isolation:** Excessive technology use can lead to isolation and decreased social interaction.\\n* **Digital Divide:** Unequal access to technology can exacerbate existing social inequalities.\\n* **Cybersecurity Threats:** Hackers and cyberattacks pose risks to individuals and institutions.\\n* **Environmental Impact:** Manufacturing and using technology can contribute to pollution and resource depletion.\\n\\n**Beyond the Dichotomy:**\\n\\n* **Ethical Implications:** Technology raises ethical questions about responsibility, bias, and the impact of artificial intelligence on society.\\n* **Social and Cultural Change:** Technology influences social norms, values, and cultural expressions.\\n\\n**Ultimately, the impact of technology is complex and dynamic. It is crucial to:**\\n\\n* **Promote responsible technology development and use:** By prioritizing ethical considerations, privacy protection, and sustainable practices.\\n* **Embrace the benefits while mitigating the risks:** By adapting to technological advancements, fostering digital literacy, and addressing inequalities.\\n* **Continuously engage in dialogue and debate:** To shape the future of technology and ensure it serves the needs and values of humanity.\\n\\nThe impact of technology is ever-evolving, and understanding its nuances is crucial for navigating our increasingly technological world. \\n\",\n",
       "  'safety_attributes': {'HARM_CATEGORY_HATE_SPEECH': '1',\n",
       "   'HARM_CATEGORY_DANGEROUS_CONTENT': '1',\n",
       "   'HARM_CATEGORY_HARASSMENT': '1',\n",
       "   'HARM_CATEGORY_SEXUALLY_EXPLICIT': '1',\n",
       "   'blocked': '[False, False, False, False]',\n",
       "   'finish_reason': 'STOP'}},\n",
       " {'id': 3,\n",
       "  'api': 'vertexai',\n",
       "  'model_name': 'gemini-1.5-flash',\n",
       "  'prompt': [{'role': 'system',\n",
       "    'parts': 'You are a helpful assistant designed to answer questions briefly.'},\n",
       "   {'role': 'user',\n",
       "    'parts': 'What efforts are being made to keep the hakka language alive?'}],\n",
       "  'parameters': {'candidate_count': 1,\n",
       "   'temperature': 1,\n",
       "   'max_output_tokens': 1000},\n",
       "  'response': 'Efforts include language immersion schools, online resources, cultural events, and government support. \\n',\n",
       "  'safety_attributes': {'HARM_CATEGORY_HATE_SPEECH': '1',\n",
       "   'HARM_CATEGORY_DANGEROUS_CONTENT': '1',\n",
       "   'HARM_CATEGORY_HARASSMENT': '1',\n",
       "   'HARM_CATEGORY_SEXUALLY_EXPLICIT': '1',\n",
       "   'blocked': '[False, False, False, False]',\n",
       "   'finish_reason': 'STOP'}},\n",
       " {'id': 1,\n",
       "  'api': 'vertexai',\n",
       "  'model_name': 'gemini-1.0-pro',\n",
       "  'prompt': 'How does technology impact us?',\n",
       "  'parameters': {'candidate_count': 1,\n",
       "   'temperature': 1,\n",
       "   'max_output_tokens': 1000},\n",
       "  'response': \"## The impact of technology on our lives: A double-edged sword\\n\\nTechnology has become an undeniable cornerstone of our lives, shaping nearly every aspect of our existence. Its impact can be observed across various domains, bringing both advantages and disadvantages that deserve careful consideration.\\n\\n**Positive Impacts:**\\n\\n* **Communication and Connection:** Technology has revolutionized how we connect with others. From instant messaging to video conferencing, we can now communicate with individuals across the globe in real-time, fostering stronger relationships and bridging geographical barriers.\\n* **Access to Information:** The internet has become a vast repository of knowledge, providing instant access to information on virtually any topic imaginable. This empowers individuals to learn, research, and stay informed on various subjects, expanding their horizons and fuelling intellectual growth.\\n* **Efficiency and Convenience:** Technology has streamlined numerous tasks, making our lives easier and more efficient. Automation, online shopping, and mobile banking are just a few examples of how technology has simplified daily routines, freeing up time for leisure and other pursuits.\\n* **Innovation and Progress:** Technological advancements have driven innovation in various fields, leading to breakthroughs in medicine, science, and engineering. These advancements have improved our quality of life, offering solutions to global challenges and propelling human progress.\\n\\n**Negative Impacts:**\\n\\n* **Privacy Concerns:** The widespread use of technology has raised concerns about data privacy and security. Our online activities are constantly tracked and monitored, raising questions about who has access to our information and how it is being used.\\n* **Social Isolation:** While technology has connected us in some ways, it can also contribute to social isolation. Excessive screen time can lead to reduced face-to-face interactions and weakened social bonds, potentially impacting mental health and well-being.\\n* **Job displacement:** Automation and technological advancements have led to job displacement in various sectors. While new job opportunities may emerge, the transition can be challenging for individuals whose skills become obsolete.\\n* **Information Overload:** The sheer volume of information available online can be overwhelming, leading to information overload and difficulty discerning credible sources from misinformation. This can hinder critical thinking and informed decision-making.\\n\\n**Moving Forward:**\\n\\nTechnology is a powerful tool that can be harnessed for good or ill. By acknowledging both its positive and negative impacts, we can strive to use it responsibly and ethically, maximizing its benefits while mitigating its potential downsides. Striking a balance between embracing technological advancements and preserving human values is crucial to ensure a future where technology serves as a force for progress and well-being. \\n\\nIt's important to remember that technology is constantly evolving, and its impact on our lives will continue to change over time. Therefore, ongoing dialogue and critical reflection are essential to ensure that we use technology in a way that benefits humanity as a whole.\",\n",
       "  'safety_attributes': {'HARM_CATEGORY_HATE_SPEECH': '1',\n",
       "   'HARM_CATEGORY_DANGEROUS_CONTENT': '1',\n",
       "   'HARM_CATEGORY_HARASSMENT': '1',\n",
       "   'HARM_CATEGORY_SEXUALLY_EXPLICIT': '1',\n",
       "   'blocked': '[False, False, False, False]',\n",
       "   'finish_reason': 'STOP'}},\n",
       " {'id': 4,\n",
       "  'api': 'vertexai',\n",
       "  'model_name': 'gemini-1.5-flash',\n",
       "  'prompt': [{'role': 'user',\n",
       "    'parts': 'What efforts are being made to keep the hakka language alive?'},\n",
       "   {'role': 'system',\n",
       "    'parts': 'You are a helpful assistant designed to answer questions briefly.'}],\n",
       "  'parameters': {'candidate_count': 1,\n",
       "   'temperature': 1,\n",
       "   'max_output_tokens': 1000},\n",
       "  'response': \"TypeError - if api == 'vertexai', then the prompt must be a str, list[str], or list[dict[str,str]] where the dictionary contains the keys 'role' and 'parts' only, and the values for 'role' must be one of 'user' or 'model', except for the first message in the list of dictionaries can be a system message with the key 'role' set to 'system'.\"},\n",
       " {'id': 2,\n",
       "  'api': 'vertexai',\n",
       "  'model_name': 'gemini-1.5-flash',\n",
       "  'prompt': ['How does international trade create jobs?',\n",
       "   'I want a joke about that'],\n",
       "  'parameters': {'candidate_count': 1,\n",
       "   'temperature': 1,\n",
       "   'max_output_tokens': 1000},\n",
       "  'response': [\"International trade creates jobs through a variety of mechanisms:\\n\\n**1. Increased Demand for Exports:**\\n\\n* **Production:**  When a country exports goods or services, it needs to produce more of those items to meet the increased demand. This leads to more jobs in manufacturing, agriculture, or the service sector, depending on the type of export. \\n* **Transportation and Logistics:** Moving goods internationally requires transportation services (shipping, air freight, trucking), warehousing, and logistics companies, all of which create jobs.\\n* **Supporting Industries:**  Exports often stimulate demand for related industries, such as packaging, materials suppliers, and financial services, further boosting employment.\\n\\n**2. Access to Lower-Cost Inputs:**\\n\\n* **Imports:** Importing raw materials or intermediate goods from countries with lower production costs can make domestic production cheaper. This allows companies to lower prices, sell more, and potentially hire more workers.\\n* **Efficiency:** Access to a wider range of imported goods and services allows businesses to operate more efficiently, reducing costs and potentially creating more jobs.\\n\\n**3. Specialization and Comparative Advantage:**\\n\\n* **Focus on Strengths:** International trade allows countries to specialize in producing goods and services where they have a comparative advantage (i.e., where they are relatively more efficient). This leads to greater productivity and potential for economic growth, which translates into more jobs.\\n* **Increased Efficiency:** Specializing in certain industries leads to economies of scale, meaning companies can produce more goods at lower costs, potentially leading to more jobs.\\n\\n**4. Foreign Investment:**\\n\\n* **Direct Investment:**  International trade often attracts foreign direct investment (FDI), where companies from other countries invest in domestic businesses, creating new jobs and boosting economic growth.\\n* **Portfolio Investment:**  International trade can lead to increased portfolio investment, where foreign investors buy stocks and bonds in domestic companies, providing capital that can be used for investment and job creation.\\n\\n**5. Innovation and Technology:**\\n\\n* **Competition:**  International trade exposes domestic companies to global competition, forcing them to innovate and improve their products and services. This often leads to technological advancements and increased productivity, creating jobs in research and development, and high-tech industries.\\n\\n**6. Tourism:**\\n\\n* **Travel and Hospitality:**  International trade can lead to increased tourism, creating jobs in the travel, hospitality, and leisure industries.\\n\\n**It's important to note that:**\\n\\n* **Job displacement:**  While international trade creates jobs, it can also lead to job displacement in some sectors, particularly those that are not competitive on a global scale. \\n* **Wage inequality:**  The benefits of international trade may not be evenly distributed, and some workers may experience wage stagnation or even decline.\\n* **Policy considerations:** Governments play a crucial role in managing the impact of international trade, through policies such as trade agreements, investment incentives, and worker retraining programs, to ensure that the benefits are shared broadly.\\n\\nOverall, international trade can be a powerful engine for job creation, but its effects are complex and can vary depending on a country's specific circumstances and policies.\\n\",\n",
       "   'Why did the economist refuse to buy a new car? \\n\\nBecause he knew it would lead to job losses in the horse-drawn carriage industry! \\n \\n(This joke highlights the potential for job displacement in some sectors due to international trade and technological advancements.) \\n'],\n",
       "  'safety_attributes': [{'HARM_CATEGORY_HATE_SPEECH': '1',\n",
       "    'HARM_CATEGORY_DANGEROUS_CONTENT': '1',\n",
       "    'HARM_CATEGORY_HARASSMENT': '1',\n",
       "    'HARM_CATEGORY_SEXUALLY_EXPLICIT': '1',\n",
       "    'blocked': '[False, False, False, False]',\n",
       "    'finish_reason': 'STOP'},\n",
       "   {'HARM_CATEGORY_HATE_SPEECH': '1',\n",
       "    'HARM_CATEGORY_DANGEROUS_CONTENT': '1',\n",
       "    'HARM_CATEGORY_HARASSMENT': '1',\n",
       "    'HARM_CATEGORY_SEXUALLY_EXPLICIT': '1',\n",
       "    'blocked': '[False, False, False, False]',\n",
       "    'finish_reason': 'STOP'}]},\n",
       " {'id': 5,\n",
       "  'api': 'vertexai',\n",
       "  'model_name': 'gemini-1.5-flash',\n",
       "  'prompt': [{'role': 'system',\n",
       "    'parts': 'You are a helpful assistant designed to answer questions briefly.'},\n",
       "   {'role': 'user', 'parts': \"Hello, I'm Bob and I'm 6 years old\"},\n",
       "   {'role': 'model', 'parts': 'Hi Bob, how may I assist you?'},\n",
       "   {'role': 'user', 'parts': 'How old will I be next year?'}],\n",
       "  'parameters': {'candidate_count': 1,\n",
       "   'temperature': 1,\n",
       "   'max_output_tokens': 1000},\n",
       "  'response': 'You will be 7 years old next year. \\n',\n",
       "  'safety_attributes': {'HARM_CATEGORY_HATE_SPEECH': '1',\n",
       "   'HARM_CATEGORY_DANGEROUS_CONTENT': '1',\n",
       "   'HARM_CATEGORY_HARASSMENT': '1',\n",
       "   'HARM_CATEGORY_SEXUALLY_EXPLICIT': '1',\n",
       "   'blocked': '[False, False, False, False]',\n",
       "   'finish_reason': 'STOP'}}]"
      ]
     },
     "execution_count": 10,
     "metadata": {},
     "output_type": "execute_result"
    }
   ],
   "source": [
    "responses"
   ]
  },
  {
   "cell_type": "markdown",
   "metadata": {},
   "source": [
    "Also notice how with the Vertex AI API, we record some additional information related to the safety attributes."
   ]
  },
  {
   "cell_type": "markdown",
   "metadata": {},
   "source": [
    "## Running the experiment via the command line\n",
    "\n",
    "We can also run the experiment via the command line. The command is as follows (assuming that your working directory is the current directory of this notebook, i.e. `examples/vertexai`):\n",
    "```bash\n",
    "prompto_run_experiment --file data/input/vertexai-example.jsonl --max_queries 30\n",
    "```"
   ]
  }
 ],
 "metadata": {
  "kernelspec": {
   "display_name": ".venv",
   "language": "python",
   "name": "python3"
  },
  "language_info": {
   "codemirror_mode": {
    "name": "ipython",
    "version": 3
   },
   "file_extension": ".py",
   "mimetype": "text/x-python",
   "name": "python",
   "nbconvert_exporter": "python",
   "pygments_lexer": "ipython3",
   "version": "3.11.9"
  }
 },
 "nbformat": 4,
 "nbformat_minor": 2
}
