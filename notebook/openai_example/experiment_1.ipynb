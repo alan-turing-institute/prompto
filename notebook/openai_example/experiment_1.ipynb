{
 "cells": [
  {
   "cell_type": "code",
   "execution_count": 1,
   "metadata": {},
   "outputs": [],
   "source": [
    "from batch_llm.settings import Settings\n",
    "from batch_llm.experiment_processing import Experiment, ExperimentPipeline\n",
    "import json\n",
    "import math\n",
    "import os\n",
   ]
  },
  {
   "cell_type": "code",
   "execution_count": 2,
   "metadata": {},
   "outputs": [],
   "source": [
    "# Insert OpenAI secret key\n",
    "OPENAI_KEY = \"<INSERT YOUR API KEY HERE>\"\n",
    "\n",
    "RAW_DATA_PATH = \"./raw_data/shuffled_questions_subset_5.json\"\n",
    "\n",
    "with open(RAW_DATA_PATH, \"r\") as f:\n",
    "    raw_data = json.loads(f.read())\n",
    "\n",
   ]
  },
  {
   "cell_type": "code",
   "execution_count": 3,
   "metadata": {},
   "outputs": [],
   "source": [
    "# pre-process data into experiment format\n",
    "SYS_CONTENT = \"You are a helpful assistant designed to answer questions briefly.\"\n",
    "formatted_data = [\n",
    "    [\n",
    "        {\"role\": \"system\", \"content\": SYS_CONTENT},\n",
    "        {\"role\": \"user\", \"content\": usr_content},\n",
    "    ]\n",
    "    for usr_content in raw_data\n",
    "]\n",
    "gen_params = {\"n\": 1, \"temperature\": 1, \"max_tokens\": 1000}\n",
    "experiment_data = [\n",
    "    {\"id\": idx, \"api\": \"openai\", \"prompt\": messages, \"parameters\": gen_params}\n",
    "    for idx, messages in enumerate(formatted_data)\n",
    "]\n",
    "\n",
    "with open(\"./data/input/experiment_data.jsonl\", \"w\") as f:\n",
    "    f.writelines([json.dumps(line) + \"\\n\" for line in experiment_data])"
   ]
  },
  {
   "cell_type": "code",
   "execution_count": 4,
   "metadata": {},
   "outputs": [],
   "source": [
    "# set model name with env variable\n",
    "os.environ[\"OPENAI_MODEL_NAME\"] = \"gpt-3.5-turbo-0125\"\n",
    "os.environ[\"OPENAI_API_KEY\"] = OPENAI_KEY\n",
    "settings = Settings(data_folder=\"./data\", max_queries=1000)\n",
    "experiment = Experiment(\"experiment_data.jsonl\", settings)\n",
    "pipeline = ExperimentPipeline(settings)"
   ]
  },
  {
   "cell_type": "code",
   "execution_count": 5,
   "metadata": {},
   "outputs": [
    {
     "name": "stderr",
     "output_type": "stream",
     "text": [
      "Sending 5 queries: 100%|██████████| 5/5 [00:00<00:00, 32.23query/s]\n",
      "Waiting for responses: 100%|██████████| 5/5 [00:02<00:00,  2.04query/s]\n"
     ]
    }
   ],
   "source": [
    "await pipeline.process_experiment(experiment)"
   ]
  }
 ],
 "metadata": {
  "kernelspec": {
   "display_name": ".venv",
   "language": "python",
   "name": "python3"
  },
  "language_info": {
   "codemirror_mode": {
    "name": "ipython",
    "version": 3
   },
   "file_extension": ".py",
   "mimetype": "text/x-python",
   "name": "python",
   "nbconvert_exporter": "python",
   "pygments_lexer": "ipython3",
   "version": "3.12.2"
  }
 },
 "nbformat": 4,
 "nbformat_minor": 2
}
